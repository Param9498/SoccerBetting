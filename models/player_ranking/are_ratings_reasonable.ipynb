{
 "cells": [
  {
   "cell_type": "code",
   "execution_count": 19,
   "id": "urban-tokyo",
   "metadata": {},
   "outputs": [],
   "source": [
    "import pandas as pd"
   ]
  },
  {
   "cell_type": "code",
   "execution_count": 32,
   "id": "auburn-northern",
   "metadata": {},
   "outputs": [],
   "source": [
    "df1 = pd.read_csv('offensive_defensive_ratings6.csv', parse_dates = ['Date']).sort_values('Date')\n",
    "df2 = pd.read_csv('offensive_defensive_ratings7.csv', parse_dates = ['Date']).sort_values('Date')"
   ]
  },
  {
   "cell_type": "code",
   "execution_count": 33,
   "id": "raised-diving",
   "metadata": {},
   "outputs": [
    {
     "data": {
      "text/plain": [
       "Index(['League', 'Season', 'Team_Home', 'Date', 'game_id', 'Goal_Home',\n",
       "       'Win_Home', 'o_rating_Home', 'd_rating_Home', 'Team_Away', 'Goal_Away',\n",
       "       'Win_Away', 'o_rating_Away', 'd_rating_Away'],\n",
       "      dtype='object')"
      ]
     },
     "execution_count": 33,
     "metadata": {},
     "output_type": "execute_result"
    }
   ],
   "source": [
    "df1.columns"
   ]
  },
  {
   "cell_type": "code",
   "execution_count": 34,
   "id": "decimal-supplier",
   "metadata": {},
   "outputs": [
    {
     "data": {
      "text/html": [
       "<div>\n",
       "<style scoped>\n",
       "    .dataframe tbody tr th:only-of-type {\n",
       "        vertical-align: middle;\n",
       "    }\n",
       "\n",
       "    .dataframe tbody tr th {\n",
       "        vertical-align: top;\n",
       "    }\n",
       "\n",
       "    .dataframe thead th {\n",
       "        text-align: right;\n",
       "    }\n",
       "</style>\n",
       "<table border=\"1\" class=\"dataframe\">\n",
       "  <thead>\n",
       "    <tr style=\"text-align: right;\">\n",
       "      <th></th>\n",
       "      <th>game_id</th>\n",
       "      <th>isHome</th>\n",
       "      <th>Date</th>\n",
       "      <th>League</th>\n",
       "      <th>Season</th>\n",
       "      <th>Team</th>\n",
       "      <th>Goal</th>\n",
       "      <th>Win</th>\n",
       "      <th>o_rating</th>\n",
       "      <th>d_rating</th>\n",
       "    </tr>\n",
       "  </thead>\n",
       "  <tbody>\n",
       "    <tr>\n",
       "      <th>0</th>\n",
       "      <td>2662</td>\n",
       "      <td>Home</td>\n",
       "      <td>2017-08-04</td>\n",
       "      <td>Ligue1</td>\n",
       "      <td>2017-2018</td>\n",
       "      <td>Monaco</td>\n",
       "      <td>3.0</td>\n",
       "      <td>1</td>\n",
       "      <td>0.633802</td>\n",
       "      <td>0.928669</td>\n",
       "    </tr>\n",
       "    <tr>\n",
       "      <th>1</th>\n",
       "      <td>2663</td>\n",
       "      <td>Home</td>\n",
       "      <td>2017-08-05</td>\n",
       "      <td>Ligue1</td>\n",
       "      <td>2017-2018</td>\n",
       "      <td>Paris S-G</td>\n",
       "      <td>2.0</td>\n",
       "      <td>1</td>\n",
       "      <td>1.862248</td>\n",
       "      <td>0.790499</td>\n",
       "    </tr>\n",
       "    <tr>\n",
       "      <th>2</th>\n",
       "      <td>2664</td>\n",
       "      <td>Home</td>\n",
       "      <td>2017-08-05</td>\n",
       "      <td>Ligue1</td>\n",
       "      <td>2017-2018</td>\n",
       "      <td>Saint-Étienne</td>\n",
       "      <td>1.0</td>\n",
       "      <td>1</td>\n",
       "      <td>1.351762</td>\n",
       "      <td>0.977121</td>\n",
       "    </tr>\n",
       "    <tr>\n",
       "      <th>3</th>\n",
       "      <td>2665</td>\n",
       "      <td>Home</td>\n",
       "      <td>2017-08-05</td>\n",
       "      <td>Ligue1</td>\n",
       "      <td>2017-2018</td>\n",
       "      <td>Montpellier</td>\n",
       "      <td>1.0</td>\n",
       "      <td>1</td>\n",
       "      <td>0.701402</td>\n",
       "      <td>0.994781</td>\n",
       "    </tr>\n",
       "    <tr>\n",
       "      <th>4</th>\n",
       "      <td>2666</td>\n",
       "      <td>Home</td>\n",
       "      <td>2017-08-05</td>\n",
       "      <td>Ligue1</td>\n",
       "      <td>2017-2018</td>\n",
       "      <td>Metz</td>\n",
       "      <td>1.0</td>\n",
       "      <td>0</td>\n",
       "      <td>0.722225</td>\n",
       "      <td>0.938748</td>\n",
       "    </tr>\n",
       "  </tbody>\n",
       "</table>\n",
       "</div>"
      ],
      "text/plain": [
       "   game_id isHome       Date  League     Season           Team  Goal  Win  \\\n",
       "0     2662   Home 2017-08-04  Ligue1  2017-2018         Monaco   3.0    1   \n",
       "1     2663   Home 2017-08-05  Ligue1  2017-2018      Paris S-G   2.0    1   \n",
       "2     2664   Home 2017-08-05  Ligue1  2017-2018  Saint-Étienne   1.0    1   \n",
       "3     2665   Home 2017-08-05  Ligue1  2017-2018    Montpellier   1.0    1   \n",
       "4     2666   Home 2017-08-05  Ligue1  2017-2018           Metz   1.0    0   \n",
       "\n",
       "   o_rating  d_rating  \n",
       "0  0.633802  0.928669  \n",
       "1  1.862248  0.790499  \n",
       "2  1.351762  0.977121  \n",
       "3  0.701402  0.994781  \n",
       "4  0.722225  0.938748  "
      ]
     },
     "execution_count": 34,
     "metadata": {},
     "output_type": "execute_result"
    }
   ],
   "source": [
    "matches_df_long = pd.wide_to_long(df1, ['Team', 'Goal', 'Win', 'o_rating', 'd_rating'], i=\"game_id\", j=\"isHome\", sep='_', suffix='(!?Home|Away)')\n",
    "# matches_df_long = matches_df_long.drop(['Attendance', 'Round'], 1)\n",
    "matches_df_long = matches_df_long.reset_index()\n",
    "matches_df_long.head()\n"
   ]
  },
  {
   "cell_type": "code",
   "execution_count": 35,
   "id": "norwegian-greensboro",
   "metadata": {},
   "outputs": [],
   "source": [
    "matches_df_long = matches_df_long[(matches_df_long['Season'] == '2020-2021') & (matches_df_long['League'] == 'EPL')]"
   ]
  },
  {
   "cell_type": "code",
   "execution_count": 36,
   "id": "primary-springer",
   "metadata": {},
   "outputs": [
    {
     "data": {
      "text/plain": [
       "Team\n",
       "Liverpool          1.378139\n",
       "Chelsea            1.354646\n",
       "Manchester City    1.351290\n",
       "Manchester Utd     1.320622\n",
       "Arsenal            1.252415\n",
       "Leeds United       1.159144\n",
       "Wolves             1.143052\n",
       "Leicester City     1.096026\n",
       "Fulham             1.065343\n",
       "Tottenham          1.059028\n",
       "Brighton           1.024052\n",
       "Crystal Palace     1.015428\n",
       "Aston Villa        1.006634\n",
       "West Ham           1.005034\n",
       "Southampton        1.003159\n",
       "Newcastle Utd      0.995322\n",
       "Everton            0.986032\n",
       "West Brom          0.937384\n",
       "Sheffield Utd      0.918760\n",
       "Burnley            0.873996\n",
       "Name: o_rating, dtype: float64"
      ]
     },
     "execution_count": 36,
     "metadata": {},
     "output_type": "execute_result"
    }
   ],
   "source": [
    "matches_df_long.groupby('Team').o_rating.mean().sort_values(ascending=False)"
   ]
  },
  {
   "cell_type": "code",
   "execution_count": 37,
   "id": "explicit-naples",
   "metadata": {},
   "outputs": [
    {
     "data": {
      "text/plain": [
       "Team\n",
       "Liverpool          0.806152\n",
       "Chelsea            0.847599\n",
       "Leeds United       0.866778\n",
       "Leicester City     0.911772\n",
       "Manchester Utd     0.918020\n",
       "Manchester City    0.920924\n",
       "Fulham             0.944888\n",
       "Wolves             0.947451\n",
       "Brighton           0.949831\n",
       "Tottenham          0.957575\n",
       "Crystal Palace     0.959266\n",
       "Aston Villa        0.965507\n",
       "Sheffield Utd      0.966917\n",
       "West Brom          0.977263\n",
       "Newcastle Utd      0.987229\n",
       "Arsenal            0.996881\n",
       "Burnley            0.997939\n",
       "Everton            1.019463\n",
       "West Ham           1.023952\n",
       "Southampton        1.031478\n",
       "Name: d_rating, dtype: float64"
      ]
     },
     "execution_count": 37,
     "metadata": {},
     "output_type": "execute_result"
    }
   ],
   "source": [
    "matches_df_long.groupby('Team').d_rating.mean().sort_values(ascending=True)"
   ]
  },
  {
   "cell_type": "code",
   "execution_count": 27,
   "id": "concrete-contemporary",
   "metadata": {},
   "outputs": [
    {
     "data": {
      "text/html": [
       "<div>\n",
       "<style scoped>\n",
       "    .dataframe tbody tr th:only-of-type {\n",
       "        vertical-align: middle;\n",
       "    }\n",
       "\n",
       "    .dataframe tbody tr th {\n",
       "        vertical-align: top;\n",
       "    }\n",
       "\n",
       "    .dataframe thead th {\n",
       "        text-align: right;\n",
       "    }\n",
       "</style>\n",
       "<table border=\"1\" class=\"dataframe\">\n",
       "  <thead>\n",
       "    <tr style=\"text-align: right;\">\n",
       "      <th></th>\n",
       "      <th>game_id</th>\n",
       "      <th>isHome</th>\n",
       "      <th>Date</th>\n",
       "      <th>League</th>\n",
       "      <th>Season</th>\n",
       "      <th>Team</th>\n",
       "      <th>Goal</th>\n",
       "      <th>Win</th>\n",
       "      <th>o_rating</th>\n",
       "      <th>d_rating</th>\n",
       "    </tr>\n",
       "  </thead>\n",
       "  <tbody>\n",
       "    <tr>\n",
       "      <th>0</th>\n",
       "      <td>2662</td>\n",
       "      <td>Home</td>\n",
       "      <td>2017-08-04</td>\n",
       "      <td>Ligue1</td>\n",
       "      <td>2017-2018</td>\n",
       "      <td>Monaco</td>\n",
       "      <td>3.0</td>\n",
       "      <td>1</td>\n",
       "      <td>0.899448</td>\n",
       "      <td>1.088137</td>\n",
       "    </tr>\n",
       "    <tr>\n",
       "      <th>1</th>\n",
       "      <td>2663</td>\n",
       "      <td>Home</td>\n",
       "      <td>2017-08-05</td>\n",
       "      <td>Ligue1</td>\n",
       "      <td>2017-2018</td>\n",
       "      <td>Paris S-G</td>\n",
       "      <td>2.0</td>\n",
       "      <td>1</td>\n",
       "      <td>2.428683</td>\n",
       "      <td>1.249024</td>\n",
       "    </tr>\n",
       "    <tr>\n",
       "      <th>2</th>\n",
       "      <td>2664</td>\n",
       "      <td>Home</td>\n",
       "      <td>2017-08-05</td>\n",
       "      <td>Ligue1</td>\n",
       "      <td>2017-2018</td>\n",
       "      <td>Saint-Étienne</td>\n",
       "      <td>1.0</td>\n",
       "      <td>1</td>\n",
       "      <td>0.928417</td>\n",
       "      <td>1.199344</td>\n",
       "    </tr>\n",
       "    <tr>\n",
       "      <th>3</th>\n",
       "      <td>2665</td>\n",
       "      <td>Home</td>\n",
       "      <td>2017-08-05</td>\n",
       "      <td>Ligue1</td>\n",
       "      <td>2017-2018</td>\n",
       "      <td>Montpellier</td>\n",
       "      <td>1.0</td>\n",
       "      <td>1</td>\n",
       "      <td>0.050142</td>\n",
       "      <td>1.175744</td>\n",
       "    </tr>\n",
       "    <tr>\n",
       "      <th>4</th>\n",
       "      <td>2666</td>\n",
       "      <td>Home</td>\n",
       "      <td>2017-08-05</td>\n",
       "      <td>Ligue1</td>\n",
       "      <td>2017-2018</td>\n",
       "      <td>Metz</td>\n",
       "      <td>1.0</td>\n",
       "      <td>0</td>\n",
       "      <td>0.525351</td>\n",
       "      <td>1.117157</td>\n",
       "    </tr>\n",
       "  </tbody>\n",
       "</table>\n",
       "</div>"
      ],
      "text/plain": [
       "   game_id isHome       Date  League     Season           Team  Goal  Win  \\\n",
       "0     2662   Home 2017-08-04  Ligue1  2017-2018         Monaco   3.0    1   \n",
       "1     2663   Home 2017-08-05  Ligue1  2017-2018      Paris S-G   2.0    1   \n",
       "2     2664   Home 2017-08-05  Ligue1  2017-2018  Saint-Étienne   1.0    1   \n",
       "3     2665   Home 2017-08-05  Ligue1  2017-2018    Montpellier   1.0    1   \n",
       "4     2666   Home 2017-08-05  Ligue1  2017-2018           Metz   1.0    0   \n",
       "\n",
       "   o_rating  d_rating  \n",
       "0  0.899448  1.088137  \n",
       "1  2.428683  1.249024  \n",
       "2  0.928417  1.199344  \n",
       "3  0.050142  1.175744  \n",
       "4  0.525351  1.117157  "
      ]
     },
     "execution_count": 27,
     "metadata": {},
     "output_type": "execute_result"
    }
   ],
   "source": [
    "matches_df_long = pd.wide_to_long(df2, ['Team', 'Goal', 'Win', 'o_rating', 'd_rating'], i=\"game_id\", j=\"isHome\", sep='_', suffix='(!?Home|Away)')\n",
    "# matches_df_long = matches_df_long.drop(['Attendance', 'Round'], 1)\n",
    "matches_df_long = matches_df_long.reset_index()\n",
    "matches_df_long.head()\n"
   ]
  },
  {
   "cell_type": "code",
   "execution_count": 28,
   "id": "standard-louis",
   "metadata": {},
   "outputs": [],
   "source": [
    "matches_df_long = matches_df_long[(matches_df_long['Season'] == '2020-2021') & (matches_df_long['League'] == 'EPL')]"
   ]
  },
  {
   "cell_type": "code",
   "execution_count": 29,
   "id": "sweet-municipality",
   "metadata": {},
   "outputs": [
    {
     "data": {
      "text/plain": [
       "Team\n",
       "Liverpool          1.403876\n",
       "Manchester Utd     1.320695\n",
       "Manchester City    1.231698\n",
       "Chelsea            1.209597\n",
       "Arsenal            0.969565\n",
       "Wolves             0.860589\n",
       "Tottenham          0.832662\n",
       "Fulham             0.799916\n",
       "Southampton        0.743260\n",
       "West Ham           0.742395\n",
       "Crystal Palace     0.735126\n",
       "Leeds United       0.729407\n",
       "Leicester City     0.722984\n",
       "Everton            0.656652\n",
       "Aston Villa        0.621193\n",
       "Brighton           0.419292\n",
       "Newcastle Utd      0.403914\n",
       "West Brom          0.399054\n",
       "Burnley            0.242645\n",
       "Sheffield Utd      0.230137\n",
       "Name: o_rating, dtype: float64"
      ]
     },
     "execution_count": 29,
     "metadata": {},
     "output_type": "execute_result"
    }
   ],
   "source": [
    "matches_df_long.groupby('Team').o_rating.mean().sort_values(ascending=False)"
   ]
  },
  {
   "cell_type": "code",
   "execution_count": 31,
   "id": "lightweight-riverside",
   "metadata": {},
   "outputs": [
    {
     "data": {
      "text/plain": [
       "Team\n",
       "Manchester City    1.670266\n",
       "Arsenal            1.398412\n",
       "Chelsea            1.293782\n",
       "Everton            1.240342\n",
       "Southampton        1.239996\n",
       "Brighton           1.236389\n",
       "Liverpool          1.189376\n",
       "Tottenham          1.178915\n",
       "Wolves             1.173649\n",
       "Manchester Utd     1.168103\n",
       "Leicester City     1.156370\n",
       "Leeds United       1.155858\n",
       "West Ham           1.134837\n",
       "Fulham             1.055223\n",
       "Sheffield Utd      1.050994\n",
       "Crystal Palace     1.025473\n",
       "Newcastle Utd      1.011859\n",
       "Burnley            0.985129\n",
       "Aston Villa        0.974778\n",
       "West Brom          0.960154\n",
       "Name: d_rating, dtype: float64"
      ]
     },
     "execution_count": 31,
     "metadata": {},
     "output_type": "execute_result"
    }
   ],
   "source": [
    "matches_df_long.groupby('Team').d_rating.mean().sort_values(ascending=False)"
   ]
  },
  {
   "cell_type": "code",
   "execution_count": null,
   "id": "scientific-observer",
   "metadata": {},
   "outputs": [],
   "source": []
  }
 ],
 "metadata": {
  "kernelspec": {
   "display_name": "Python 3",
   "language": "python",
   "name": "python3"
  },
  "language_info": {
   "codemirror_mode": {
    "name": "ipython",
    "version": 3
   },
   "file_extension": ".py",
   "mimetype": "text/x-python",
   "name": "python",
   "nbconvert_exporter": "python",
   "pygments_lexer": "ipython3",
   "version": "3.7.10"
  }
 },
 "nbformat": 4,
 "nbformat_minor": 5
}
