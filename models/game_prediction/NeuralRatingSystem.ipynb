{
 "cells": [
  {
   "cell_type": "code",
   "execution_count": 1,
   "id": "faced-folks",
   "metadata": {},
   "outputs": [],
   "source": [
    "import pandas as pd\n",
    "import numpy as np"
   ]
  },
  {
   "cell_type": "code",
   "execution_count": 2,
   "id": "gross-scholarship",
   "metadata": {},
   "outputs": [],
   "source": [
    "df = pd.read_csv('../../data/final_data/final_data.csv', parse_dates = ['Date'])\n",
    "df = df.rename(columns = {\n",
    "    'FBREFSave%_Home': 'FBREFSavePerc_Home',\n",
    "    'FBREFSave%_Away': 'FBREFSavePerc_Away'\n",
    "}).sort_values('Date')"
   ]
  },
  {
   "cell_type": "code",
   "execution_count": 3,
   "id": "alike-guard",
   "metadata": {},
   "outputs": [
    {
     "data": {
      "text/plain": [
       "{'538Spi_Home': 'FTESpi_Home',\n",
       " '538Spi_Away': 'FTESpi_Away',\n",
       " '538Prob_Home': 'FTEProb_Home',\n",
       " '538Prob_Away': 'FTEProb_Away',\n",
       " '538Importance_Home': 'FTEImportance_Home',\n",
       " '538Importance_Away': 'FTEImportance_Away',\n",
       " '538xg_Home': 'FTExg_Home',\n",
       " '538xg_Away': 'FTExg_Away'}"
      ]
     },
     "execution_count": 3,
     "metadata": {},
     "output_type": "execute_result"
    }
   ],
   "source": [
    "rename_cols = {}\n",
    "for col in df.columns:\n",
    "    if col.startswith('538'):\n",
    "        rename_cols[col] = col.replace('538', 'FTE')\n",
    "df = df.rename(columns = rename_cols)\n",
    "rename_cols"
   ]
  },
  {
   "cell_type": "code",
   "execution_count": 4,
   "id": "amazing-closing",
   "metadata": {},
   "outputs": [
    {
     "data": {
      "text/plain": [
       "Index(['Team_Home', 'Team_Away', 'USxg_Home', 'USxg_Away', 'Date',\n",
       "       'USProb_Home', 'USProb_Away', 'Season', 'League', 'Goals_Home',\n",
       "       'Goals_Away', 'HalfGoals_Home', 'HalfGoals_Away', 'OddsB365_Home',\n",
       "       'OddsB365_Draw', 'OddsB365_Away', 'OddsBW_Home', 'OddsBW_Draw',\n",
       "       'OddsBW_Away', 'OddsIW_Home', 'OddsIW_Draw', 'OddsIW_Away',\n",
       "       'OddsPS_Home', 'OddsPS_Draw', 'OddsPS_Away', 'OddsWH_Home',\n",
       "       'OddsWH_Draw', 'OddsWH_Away', 'OddsVC_Home', 'OddsVC_Draw',\n",
       "       'OddsVC_Away', 'OddsPSC_Home', 'OddsPSC_Draw', 'OddsPSC_Away',\n",
       "       'FTESpi_Home', 'FTESpi_Away', 'FTEProb_Home', 'FTEProb_Away',\n",
       "       'FTEImportance_Home', 'FTEImportance_Away', 'FTExg_Home', 'FTExg_Away',\n",
       "       'FBREFPossession_Home', 'FBREFSavePerc_Home', 'FBREFAst_Home',\n",
       "       'FBREFPK_Home', 'FBREFPKatt_Home', 'FBREFSh_Home', 'FBREFSoT_Home',\n",
       "       'FBREFCrdY_Home', 'FBREFCrdR_Home', 'FBREFxg_Home', 'FBREFxa_Home',\n",
       "       'FBREFSCA_Home', 'FBREFGCA_Home', 'FBREFPossession_Away',\n",
       "       'FBREFSavePerc_Away', 'FBREFAst_Away', 'FBREFPK_Away',\n",
       "       'FBREFPKatt_Away', 'FBREFSh_Away', 'FBREFSoT_Away', 'FBREFCrdY_Away',\n",
       "       'FBREFCrdR_Away', 'FBREFxg_Away', 'FBREFxa_Away', 'FBREFSCA_Away',\n",
       "       'FBREFGCA_Away', 'FBREFORating_Home', 'FBREFDRating_Home',\n",
       "       'FBREFORating_Away', 'FBREFDRating_Away', 'FBREFORating2_Home',\n",
       "       'FBREFDRating2_Home', 'FBREFORating2_Away', 'FBREFDRating2_Away'],\n",
       "      dtype='object')"
      ]
     },
     "execution_count": 4,
     "metadata": {},
     "output_type": "execute_result"
    }
   ],
   "source": [
    "df.columns"
   ]
  },
  {
   "cell_type": "code",
   "execution_count": 5,
   "id": "gentle-singing",
   "metadata": {},
   "outputs": [],
   "source": [
    "differentials_to_be_calculated = [\n",
    "    'FBREFORating',\n",
    "    'FBREFDRating',\n",
    "    'FBREFORating2',\n",
    "    'FBREFDRating2'\n",
    "]"
   ]
  },
  {
   "cell_type": "code",
   "execution_count": 20,
   "id": "auburn-database",
   "metadata": {},
   "outputs": [],
   "source": [
    "from collections import defaultdict\n",
    "    \n",
    "def calculate_differentials_using_pandas(df, differentials_to_be_calculated):\n",
    "    \n",
    "    df['GameID'] = df.index\n",
    "    \n",
    "    drop_cols = []\n",
    "    for col in df.columns:\n",
    "        if col.endswith('Draw'):\n",
    "            drop_cols.append(col)\n",
    "    df = df.drop(drop_cols, axis=1)\n",
    "    \n",
    "    for dc in differentials_to_be_calculated:\n",
    "        df[f'{dc}Diff_Home'] = df[f'{dc}_Home'] - df[f'{dc}_Away']\n",
    "        df[f'{dc}Diff_Away'] = df[f'{dc}_Away'] - df[f'{dc}_Home']\n",
    "        \n",
    "#     df['GoalsDiff_Home'] = df['Goals_Home'] - df['Goals_Away']\n",
    "#     df['GoalsDiff_Away'] = df['Goals_Away'] - df['Goals_Home']\n",
    "\n",
    "    col_names_with_home_or_away = defaultdict(lambda: 0)\n",
    "    for col in df.columns:\n",
    "        if col.endswith('_Home') or col.endswith('_Away'):\n",
    "            col_names_with_home_or_away[''.join(col.split('_')[:-1])] += 1\n",
    "\n",
    "    for col in col_names_with_home_or_away.keys():\n",
    "        assert col_names_with_home_or_away[col] == 2, print(col)\n",
    "\n",
    "    df_long = pd.wide_to_long(\n",
    "        df, \n",
    "        col_names_with_home_or_away, \n",
    "        i = ['GameID'], \n",
    "        j = 'isHome', \n",
    "        sep = '_', \n",
    "        suffix = r'\\w+'\n",
    "    )\n",
    "    df_long = df_long.reset_index().sort_values(['GameID'])\n",
    "    \n",
    "\n",
    "    for dc in differentials_to_be_calculated:\n",
    "        df_long[f'Avg{dc}Diff'] = df_long.groupby(['League', 'Season', 'Team'])[f'{dc}Diff'].transform(lambda x: x.expanding().mean().shift(1, fill_value=0))\n",
    "#     df_long['TotalGoalsDiff'] = df_long.groupby(['League', 'Season', 'Team'])['GoalsDiff'].transform(lambda x: x.expanding().sum().shift(1, fill_value=0))\n",
    "    df_long['Game#'] = df_long.groupby(['League', 'Season', 'Team'])[f'{dc}Diff'].transform(lambda x: pd.Series(range(0, len(x)), index=x.index))\n",
    "    \n",
    "    new_df_home = df_long[df_long['isHome'] == 'Home'].drop('isHome', 1)\n",
    "    new_df_away = df_long[df_long['isHome'] == 'Away'].drop('isHome', 1)\n",
    "\n",
    "    final_df = pd.merge(new_df_home, new_df_away, how='inner', on=['GameID', 'Date', 'Season', 'League'], suffixes=('_Home', '_Away'))\n",
    "    \n",
    "    for dc in differentials_to_be_calculated:\n",
    "        final_df[f'{dc}_Var'] = final_df[f'Avg{dc}Diff_Home'] - final_df[f'Avg{dc}Diff_Away']\n",
    "    \n",
    "    \n",
    "    \n",
    "    return final_df.sort_values(['GameID'])\n",
    "    "
   ]
  },
  {
   "cell_type": "code",
   "execution_count": 21,
   "id": "based-princeton",
   "metadata": {},
   "outputs": [],
   "source": [
    "# df = calculate_differentials_using_pandas(df, differentials_to_be_calculated)"
   ]
  },
  {
   "cell_type": "code",
   "execution_count": 22,
   "id": "empirical-present",
   "metadata": {},
   "outputs": [],
   "source": [
    "from sklearn.metrics import brier_score_loss\n",
    "\n",
    "import statsmodels.formula.api as smf\n",
    "import statsmodels.api as sm"
   ]
  },
  {
   "cell_type": "code",
   "execution_count": 23,
   "id": "first-cache",
   "metadata": {},
   "outputs": [],
   "source": [
    "pred_df = calculate_differentials_using_pandas(df, differentials_to_be_calculated)\n",
    "pred_df['Win'] = 1 * (pred_df['Goals_Home'] > pred_df['Goals_Away'])"
   ]
  },
  {
   "cell_type": "code",
   "execution_count": 24,
   "id": "boxed-laptop",
   "metadata": {},
   "outputs": [
    {
     "data": {
      "text/plain": [
       "Index(['GameID', 'League', 'Season', 'Date', 'Team_Home', 'USxg_Home',\n",
       "       'USProb_Home', 'Goals_Home', 'HalfGoals_Home', 'OddsB365_Home',\n",
       "       'OddsBW_Home', 'OddsIW_Home', 'OddsPS_Home', 'OddsWH_Home',\n",
       "       'OddsVC_Home', 'OddsPSC_Home', 'FTESpi_Home', 'FTEProb_Home',\n",
       "       'FTEImportance_Home', 'FTExg_Home', 'FBREFPossession_Home',\n",
       "       'FBREFSavePerc_Home', 'FBREFAst_Home', 'FBREFPK_Home',\n",
       "       'FBREFPKatt_Home', 'FBREFSh_Home', 'FBREFSoT_Home', 'FBREFCrdY_Home',\n",
       "       'FBREFCrdR_Home', 'FBREFxg_Home', 'FBREFxa_Home', 'FBREFSCA_Home',\n",
       "       'FBREFGCA_Home', 'FBREFORating_Home', 'FBREFDRating_Home',\n",
       "       'FBREFORating2_Home', 'FBREFDRating2_Home', 'FBREFORatingDiff_Home',\n",
       "       'FBREFDRatingDiff_Home', 'FBREFORating2Diff_Home',\n",
       "       'FBREFDRating2Diff_Home', 'AvgFBREFORatingDiff_Home',\n",
       "       'AvgFBREFDRatingDiff_Home', 'AvgFBREFORating2Diff_Home',\n",
       "       'AvgFBREFDRating2Diff_Home', 'Game#_Home', 'Team_Away', 'USxg_Away',\n",
       "       'USProb_Away', 'Goals_Away', 'HalfGoals_Away', 'OddsB365_Away',\n",
       "       'OddsBW_Away', 'OddsIW_Away', 'OddsPS_Away', 'OddsWH_Away',\n",
       "       'OddsVC_Away', 'OddsPSC_Away', 'FTESpi_Away', 'FTEProb_Away',\n",
       "       'FTEImportance_Away', 'FTExg_Away', 'FBREFPossession_Away',\n",
       "       'FBREFSavePerc_Away', 'FBREFAst_Away', 'FBREFPK_Away',\n",
       "       'FBREFPKatt_Away', 'FBREFSh_Away', 'FBREFSoT_Away', 'FBREFCrdY_Away',\n",
       "       'FBREFCrdR_Away', 'FBREFxg_Away', 'FBREFxa_Away', 'FBREFSCA_Away',\n",
       "       'FBREFGCA_Away', 'FBREFORating_Away', 'FBREFDRating_Away',\n",
       "       'FBREFORating2_Away', 'FBREFDRating2_Away', 'FBREFORatingDiff_Away',\n",
       "       'FBREFDRatingDiff_Away', 'FBREFORating2Diff_Away',\n",
       "       'FBREFDRating2Diff_Away', 'AvgFBREFORatingDiff_Away',\n",
       "       'AvgFBREFDRatingDiff_Away', 'AvgFBREFORating2Diff_Away',\n",
       "       'AvgFBREFDRating2Diff_Away', 'Game#_Away', 'FBREFORating_Var',\n",
       "       'FBREFDRating_Var', 'FBREFORating2_Var', 'FBREFDRating2_Var', 'Win'],\n",
       "      dtype='object')"
      ]
     },
     "execution_count": 24,
     "metadata": {},
     "output_type": "execute_result"
    }
   ],
   "source": [
    "pred_df.columns"
   ]
  },
  {
   "cell_type": "code",
   "execution_count": 25,
   "id": "apparent-scout",
   "metadata": {},
   "outputs": [],
   "source": [
    "pred_df = pred_df[(pred_df['Game#_Home'] >= 5) & (pred_df['Game#_Away'] >= 5)]"
   ]
  },
  {
   "cell_type": "code",
   "execution_count": 27,
   "id": "whole-bearing",
   "metadata": {},
   "outputs": [
    {
     "name": "stdout",
     "output_type": "stream",
     "text": [
      "Win ~ FBREFORating_Var+FBREFDRating_Var+FBREFORating2_Var+FBREFDRating2_Var\n"
     ]
    },
    {
     "data": {
      "text/html": [
       "<table class=\"simpletable\">\n",
       "<caption>Generalized Linear Model Regression Results</caption>\n",
       "<tr>\n",
       "  <th>Dep. Variable:</th>          <td>Win</td>       <th>  No. Observations:  </th>  <td>  3159</td> \n",
       "</tr>\n",
       "<tr>\n",
       "  <th>Model:</th>                  <td>GLM</td>       <th>  Df Residuals:      </th>  <td>  3154</td> \n",
       "</tr>\n",
       "<tr>\n",
       "  <th>Model Family:</th>        <td>Binomial</td>     <th>  Df Model:          </th>  <td>     4</td> \n",
       "</tr>\n",
       "<tr>\n",
       "  <th>Link Function:</th>         <td>logit</td>      <th>  Scale:             </th> <td>  1.0000</td>\n",
       "</tr>\n",
       "<tr>\n",
       "  <th>Method:</th>                <td>IRLS</td>       <th>  Log-Likelihood:    </th> <td> -2005.5</td>\n",
       "</tr>\n",
       "<tr>\n",
       "  <th>Date:</th>            <td>Wed, 12 May 2021</td> <th>  Deviance:          </th> <td>  4010.9</td>\n",
       "</tr>\n",
       "<tr>\n",
       "  <th>Time:</th>                <td>18:46:35</td>     <th>  Pearson chi2:      </th> <td>3.16e+03</td>\n",
       "</tr>\n",
       "<tr>\n",
       "  <th>No. Iterations:</th>          <td>4</td>        <th>                     </th>     <td> </td>   \n",
       "</tr>\n",
       "<tr>\n",
       "  <th>Covariance Type:</th>     <td>nonrobust</td>    <th>                     </th>     <td> </td>   \n",
       "</tr>\n",
       "</table>\n",
       "<table class=\"simpletable\">\n",
       "<tr>\n",
       "          <td></td>             <th>coef</th>     <th>std err</th>      <th>z</th>      <th>P>|z|</th>  <th>[0.025</th>    <th>0.975]</th>  \n",
       "</tr>\n",
       "<tr>\n",
       "  <th>Intercept</th>         <td>   -0.2040</td> <td>    0.038</td> <td>   -5.402</td> <td> 0.000</td> <td>   -0.278</td> <td>   -0.130</td>\n",
       "</tr>\n",
       "<tr>\n",
       "  <th>FBREFORating_Var</th>  <td>    0.0106</td> <td>    0.323</td> <td>    0.033</td> <td> 0.974</td> <td>   -0.621</td> <td>    0.643</td>\n",
       "</tr>\n",
       "<tr>\n",
       "  <th>FBREFDRating_Var</th>  <td>   -2.5206</td> <td>    0.479</td> <td>   -5.265</td> <td> 0.000</td> <td>   -3.459</td> <td>   -1.582</td>\n",
       "</tr>\n",
       "<tr>\n",
       "  <th>FBREFORating2_Var</th> <td>    0.5982</td> <td>    0.183</td> <td>    3.265</td> <td> 0.001</td> <td>    0.239</td> <td>    0.957</td>\n",
       "</tr>\n",
       "<tr>\n",
       "  <th>FBREFDRating2_Var</th> <td>    0.0293</td> <td>    0.220</td> <td>    0.133</td> <td> 0.894</td> <td>   -0.403</td> <td>    0.461</td>\n",
       "</tr>\n",
       "</table>"
      ],
      "text/plain": [
       "<class 'statsmodels.iolib.summary.Summary'>\n",
       "\"\"\"\n",
       "                 Generalized Linear Model Regression Results                  \n",
       "==============================================================================\n",
       "Dep. Variable:                    Win   No. Observations:                 3159\n",
       "Model:                            GLM   Df Residuals:                     3154\n",
       "Model Family:                Binomial   Df Model:                            4\n",
       "Link Function:                  logit   Scale:                          1.0000\n",
       "Method:                          IRLS   Log-Likelihood:                -2005.5\n",
       "Date:                Wed, 12 May 2021   Deviance:                       4010.9\n",
       "Time:                        18:46:35   Pearson chi2:                 3.16e+03\n",
       "No. Iterations:                     4                                         \n",
       "Covariance Type:            nonrobust                                         \n",
       "=====================================================================================\n",
       "                        coef    std err          z      P>|z|      [0.025      0.975]\n",
       "-------------------------------------------------------------------------------------\n",
       "Intercept            -0.2040      0.038     -5.402      0.000      -0.278      -0.130\n",
       "FBREFORating_Var      0.0106      0.323      0.033      0.974      -0.621       0.643\n",
       "FBREFDRating_Var     -2.5206      0.479     -5.265      0.000      -3.459      -1.582\n",
       "FBREFORating2_Var     0.5982      0.183      3.265      0.001       0.239       0.957\n",
       "FBREFDRating2_Var     0.0293      0.220      0.133      0.894      -0.403       0.461\n",
       "=====================================================================================\n",
       "\"\"\""
      ]
     },
     "execution_count": 27,
     "metadata": {},
     "output_type": "execute_result"
    }
   ],
   "source": [
    "cols_for_pred = []\n",
    "for col in pred_df.columns:\n",
    "    if col.endswith('Var'):\n",
    "        cols_for_pred.append(col)\n",
    "        \n",
    "# cols_for_pred = [\n",
    "#     'I((1.5 * AvgFBREFORating_Home * AvgFBREFDRating_Away) - (1.1 * AvgFBREFORating_Away * AvgFBREFDRating_Home))',\n",
    "#     'I((FBREFORating2_Home * AvgFBREFDRating2_Away) - (AvgFBREFORating2_Away * AvgFBREFDRating2_Home) + 0.371)',\n",
    "# ]\n",
    "\n",
    "glm_str = \"Win ~ \" + '+'.join(cols_for_pred)\n",
    "print(glm_str)\n",
    "\n",
    "result_glm = smf.glm(glm_str, \n",
    "             data = pred_df[pred_df['Season'].isin(['2017-2018', '2018-2019'])],\n",
    "              family = sm.families.Binomial()\n",
    ").fit()\n",
    "result_glm.summary()"
   ]
  },
  {
   "cell_type": "code",
   "execution_count": 28,
   "id": "promotional-oriental",
   "metadata": {},
   "outputs": [
    {
     "data": {
      "text/plain": [
       "3858    0\n",
       "3862    1\n",
       "3865    1\n",
       "3866    1\n",
       "3867    0\n",
       "       ..\n",
       "5372    0\n",
       "5373    0\n",
       "5374    1\n",
       "5375    0\n",
       "5376    0\n",
       "Name: Win, Length: 1480, dtype: int64"
      ]
     },
     "execution_count": 28,
     "metadata": {},
     "output_type": "execute_result"
    }
   ],
   "source": [
    "pred_df[pred_df['Season'].isin(['2019-2020'])]['Win']"
   ]
  },
  {
   "cell_type": "code",
   "execution_count": 29,
   "id": "behind-correlation",
   "metadata": {},
   "outputs": [
    {
     "data": {
      "text/plain": [
       "3858    0.492431\n",
       "3862    0.457540\n",
       "3865    0.536669\n",
       "3866    0.346782\n",
       "3867    0.302780\n",
       "          ...   \n",
       "5372    0.475778\n",
       "5373    0.563686\n",
       "5374    0.417290\n",
       "5375    0.384783\n",
       "5376    0.475084\n",
       "Length: 1480, dtype: float64"
      ]
     },
     "execution_count": 29,
     "metadata": {},
     "output_type": "execute_result"
    }
   ],
   "source": [
    "result_glm.predict(pred_df[pred_df['Season'].isin(['2019-2020'])])"
   ]
  },
  {
   "cell_type": "code",
   "execution_count": 30,
   "id": "closing-insertion",
   "metadata": {},
   "outputs": [
    {
     "name": "stdout",
     "output_type": "stream",
     "text": [
      "Validation Brier Score:  0.2280651550886035\n"
     ]
    }
   ],
   "source": [
    "print(\"Validation Brier Score: \", brier_score_loss(pred_df[pred_df['Season'].isin(['2019-2020'])]['Win'], result_glm.predict(pred_df[pred_df['Season'].isin(['2019-2020'])])))\n"
   ]
  },
  {
   "cell_type": "code",
   "execution_count": 31,
   "id": "compressed-recommendation",
   "metadata": {},
   "outputs": [
    {
     "name": "stdout",
     "output_type": "stream",
     "text": [
      "Validation Accuracy Score:  0.6135135135135135\n"
     ]
    }
   ],
   "source": [
    "from sklearn.metrics import accuracy_score\n",
    "print(\"Validation Accuracy Score: \", accuracy_score(pred_df[pred_df['Season'].isin(['2019-2020'])]['Win'], 1 * (result_glm.predict(pred_df[pred_df['Season'].isin(['2019-2020'])]) > 0.5)))\n"
   ]
  },
  {
   "cell_type": "code",
   "execution_count": null,
   "id": "diagnostic-framework",
   "metadata": {},
   "outputs": [],
   "source": []
  }
 ],
 "metadata": {
  "kernelspec": {
   "display_name": "Python 3",
   "language": "python",
   "name": "python3"
  },
  "language_info": {
   "codemirror_mode": {
    "name": "ipython",
    "version": 3
   },
   "file_extension": ".py",
   "mimetype": "text/x-python",
   "name": "python",
   "nbconvert_exporter": "python",
   "pygments_lexer": "ipython3",
   "version": "3.7.10"
  }
 },
 "nbformat": 4,
 "nbformat_minor": 5
}
