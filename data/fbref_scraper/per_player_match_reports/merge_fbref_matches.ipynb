{
 "cells": [
  {
   "cell_type": "code",
   "execution_count": 1,
   "id": "similar-prisoner",
   "metadata": {},
   "outputs": [],
   "source": [
    "import os\n",
    "\n",
    "import pandas as pd\n",
    "import numpy as np"
   ]
  },
  {
   "cell_type": "code",
   "execution_count": 2,
   "id": "deadly-locator",
   "metadata": {},
   "outputs": [],
   "source": [
    "leagues = ['EPL', 'Ligue1', 'Bundesliga', 'SerieA', 'LaLiga']"
   ]
  },
  {
   "cell_type": "code",
   "execution_count": 5,
   "id": "split-fishing",
   "metadata": {},
   "outputs": [
    {
     "name": "stdout",
     "output_type": "stream",
     "text": [
      "['dfs/EPL/matches/2020-2021.csv', 'dfs/EPL/matches/2019-2020.csv', 'dfs/EPL/matches/2018-2019.csv', 'dfs/EPL/matches/2017-2018.csv']\n",
      "['dfs/Ligue1/matches/2020-2021.csv', 'dfs/Ligue1/matches/2019-2020.csv', 'dfs/Ligue1/matches/2018-2019.csv', 'dfs/Ligue1/matches/2017-2018.csv']\n",
      "['dfs/Bundesliga/matches/2020-2021.csv', 'dfs/Bundesliga/matches/2019-2020.csv', 'dfs/Bundesliga/matches/2018-2019.csv', 'dfs/Bundesliga/matches/2017-2018.csv']\n",
      "['dfs/SerieA/matches/2020-2021.csv', 'dfs/SerieA/matches/2019-2020.csv', 'dfs/SerieA/matches/2018-2019.csv', 'dfs/SerieA/matches/2017-2018.csv']\n",
      "['dfs/LaLiga/matches/2020-2021.csv', 'dfs/LaLiga/matches/2019-2020.csv', 'dfs/LaLiga/matches/2018-2019.csv', 'dfs/LaLiga/matches/2017-2018.csv']\n"
     ]
    }
   ],
   "source": [
    "dfs = []\n",
    "for league in leagues:\n",
    "    cwd = f'dfs/{league}/matches'\n",
    "    if os.path.isdir(cwd):\n",
    "        onlyfiles = [os.path.join(cwd, f) for f in os.listdir(cwd) if os.path.isfile(os.path.join(cwd, f)) if ('2015-2016' not in f) and ('2016-2017' not in f) and ('2014-2015' not in f)]\n",
    "        print(onlyfiles)\n",
    "        \n",
    "        for file in onlyfiles:\n",
    "            df = pd.read_csv(file, parse_dates= ['Date'])\n",
    "            dfs.append(df)\n",
    "\n",
    "df = pd.concat(dfs, ignore_index=True)"
   ]
  },
  {
   "cell_type": "code",
   "execution_count": 6,
   "id": "frequent-inflation",
   "metadata": {},
   "outputs": [],
   "source": [
    "df.to_csv('dfs/matches.csv', index=False)"
   ]
  },
  {
   "cell_type": "code",
   "execution_count": null,
   "id": "liked-desperate",
   "metadata": {},
   "outputs": [],
   "source": []
  }
 ],
 "metadata": {
  "kernelspec": {
   "display_name": "Python 3",
   "language": "python",
   "name": "python3"
  },
  "language_info": {
   "codemirror_mode": {
    "name": "ipython",
    "version": 3
   },
   "file_extension": ".py",
   "mimetype": "text/x-python",
   "name": "python",
   "nbconvert_exporter": "python",
   "pygments_lexer": "ipython3",
   "version": "3.7.10"
  }
 },
 "nbformat": 4,
 "nbformat_minor": 5
}
