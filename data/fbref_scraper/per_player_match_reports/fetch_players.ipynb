{
 "cells": [
  {
   "cell_type": "code",
   "execution_count": 1,
   "id": "serial-circle",
   "metadata": {},
   "outputs": [],
   "source": [
    "import requests\n",
    "from pathlib import Path\n",
    "import os\n",
    "\n",
    "import shelve\n",
    "\n",
    "from bs4 import BeautifulSoup\n",
    "from bs4 import Comment\n",
    "import pandas as pd"
   ]
  },
  {
   "cell_type": "code",
   "execution_count": 2,
   "id": "chemical-south",
   "metadata": {},
   "outputs": [],
   "source": [
    "players_url = {\n",
    "    'EPL': {\n",
    "        '2020-2021': \"https://fbref.com/en/comps/9/stats/Premier-League-Stats\", \n",
    "        '2019-2020': \"https://fbref.com/en/comps/9/3232/stats/2019-2020-Premier-League-Stats\", \n",
    "        '2018-2019': \"https://fbref.com/en/comps/9/1889/stats/2018-2019-Premier-League-Stats\",\n",
    "        '2017-2018': \"https://fbref.com/en/comps/9/1631/stats/2017-2018-Premier-League-Stats\", \n",
    "        '2016-2017': \"https://fbref.com/en/comps/9/1526/stats/2016-2017-Premier-League-Stats\", \n",
    "        '2015-2016': \"https://fbref.com/en/comps/9/1467/stats/2015-2016-Premier-League-Stats\",\n",
    "        '2014-2015': \"https://fbref.com/en/comps/9/733/stats/2014-2015-Premier-League-Stats\",\n",
    "    }\n",
    "}"
   ]
  },
  {
   "cell_type": "code",
   "execution_count": 3,
   "id": "honey-journalist",
   "metadata": {},
   "outputs": [],
   "source": [
    "# d = shelve.open('players.shelve')\n",
    "# list(d.keys())"
   ]
  },
  {
   "cell_type": "code",
   "execution_count": 4,
   "id": "moderate-maine",
   "metadata": {},
   "outputs": [],
   "source": [
    "# def shelve_it(file_name):\n",
    "#     d = shelve.open(file_name)\n",
    "\n",
    "#     def decorator(func):\n",
    "#         def new_func(param):\n",
    "#             if param not in d:\n",
    "#                 print(param)\n",
    "#                 d[param] = func(param)\n",
    "#             else:\n",
    "#                 print('Found Cached!')\n",
    "#             return d[param]\n",
    "\n",
    "#         return new_func\n",
    "    \n",
    "#     d.close()\n",
    "\n",
    "#     return decorator"
   ]
  },
  {
   "cell_type": "code",
   "execution_count": 5,
   "id": "dependent-terror",
   "metadata": {},
   "outputs": [],
   "source": [
    "# @shelve_it('players.shelve')\n",
    "# def get_page(link):\n",
    "#     print(link)\n",
    "#     return requests.get(link).content"
   ]
  },
  {
   "cell_type": "code",
   "execution_count": 6,
   "id": "caroline-texas",
   "metadata": {},
   "outputs": [],
   "source": [
    "from diskcache import Cache\n",
    "\n",
    "cache = Cache(\"players.shelve\")\n",
    "\n",
    "@cache.memoize()\n",
    "def get_page(link):\n",
    "    print(link)\n",
    "    return requests.get(link).content"
   ]
  },
  {
   "cell_type": "code",
   "execution_count": 7,
   "id": "identical-ukraine",
   "metadata": {},
   "outputs": [
    {
     "data": {
      "text/plain": [
       "{'EPL': {'2020-2021': 'https://fbref.com/en/comps/9/stats/Premier-League-Stats',\n",
       "  '2019-2020': 'https://fbref.com/en/comps/9/3232/stats/2019-2020-Premier-League-Stats',\n",
       "  '2018-2019': 'https://fbref.com/en/comps/9/1889/stats/2018-2019-Premier-League-Stats',\n",
       "  '2017-2018': 'https://fbref.com/en/comps/9/1631/stats/2017-2018-Premier-League-Stats',\n",
       "  '2016-2017': 'https://fbref.com/en/comps/9/1526/stats/2016-2017-Premier-League-Stats',\n",
       "  '2015-2016': 'https://fbref.com/en/comps/9/1467/stats/2015-2016-Premier-League-Stats',\n",
       "  '2014-2015': 'https://fbref.com/en/comps/9/733/stats/2014-2015-Premier-League-Stats'}}"
      ]
     },
     "execution_count": 7,
     "metadata": {},
     "output_type": "execute_result"
    }
   ],
   "source": [
    "players_url"
   ]
  },
  {
   "cell_type": "code",
   "execution_count": 18,
   "id": "strategic-alcohol",
   "metadata": {},
   "outputs": [
    {
     "name": "stdout",
     "output_type": "stream",
     "text": [
      "EPL 2020-2021\n",
      "EPL 2019-2020\n",
      "EPL 2018-2019\n",
      "EPL 2017-2018\n",
      "EPL 2016-2017\n",
      "EPL 2015-2016\n",
      "EPL 2014-2015\n"
     ]
    }
   ],
   "source": [
    "columns = {}\n",
    "datasets = {}\n",
    "\n",
    "for league in players_url:\n",
    "    for season in players_url[league]:\n",
    "        data = []\n",
    "        print(league, season)\n",
    "        link = players_url[league][season]\n",
    "        page = get_page(link)\n",
    "        soup = BeautifulSoup(page, 'html.parser')\n",
    "        for el in soup.find_all(string=lambda text: isinstance(text, Comment)):\n",
    "            if 'div_stats_standard' in el:\n",
    "                soup2 = BeautifulSoup(el, 'html.parser')\n",
    "        \n",
    "        column = ['League', 'Season'] + [el.text.strip() for el in soup2.find('thead').find_all('tr')[1].find_all('th')]\n",
    "        if league not in columns:\n",
    "            columns[league] = {}\n",
    "        columns[league][season] = column\n",
    "        \n",
    "        for el in soup2.find('tbody').find_all('tr'):\n",
    "            row = []\n",
    "            row.append(league)\n",
    "            row.append(season)\n",
    "            count_empty = 0\n",
    "            for el2 in el.find_all('th'):\n",
    "                row.append(el2.text.strip())\n",
    "                if el2.text.strip() == '':\n",
    "                    count_empty += 1\n",
    "            for el2 in el.find_all('td'):\n",
    "                row.append(el2.text.strip())\n",
    "                if el2.text.strip() == 'Matches':\n",
    "                    row[-1] = 'https://fbref.com' + el2.find('a')['href'].strip()\n",
    "                if el2.text.strip() == '':\n",
    "                    count_empty += 1\n",
    "            if count_empty != (len(row) - 2) and row[0] != 'Rk':\n",
    "                data.append(row)\n",
    "        \n",
    "        if league not in datasets:\n",
    "            datasets[league] = {}\n",
    "        datasets[league][season] = data\n",
    "\n",
    "for league in datasets:\n",
    "    for season in datasets[league]:\n",
    "        df = pd.DataFrame(datasets[league][season], columns = columns[league][season])\n",
    "\n",
    "        path = Path(f'dfs/{league}/players')\n",
    "        path.mkdir(parents=True, exist_ok=True)\n",
    "\n",
    "        df.iloc[:, list(range(20))].to_csv(os.path.join(path, f'{season}_performance.csv'), index = False)\n",
    "        df.iloc[:, list(range(13)) + list(range(20, 25))].to_csv(os.path.join(path, f'{season}_performance_per_90_min.csv'), index = False)\n",
    "        df.iloc[:, list(range(9)) + [len(df.columns) - 1]].to_csv(os.path.join(path, f'{season}_match_links.csv'), index = False)\n",
    "        \n",
    "        if len(df.columns) > 27:\n",
    "            df.iloc[:, list(range(13)) + list(range(25, 29))].to_csv(os.path.join(path, f'{season}_expected.csv'), index = False)\n",
    "            df.iloc[:, list(range(13)) + list(range(29, 34))].to_csv(os.path.join(path, f'{season}_expected_per_90_min.csv'), index = False)\n",
    "        "
   ]
  },
  {
   "cell_type": "code",
   "execution_count": null,
   "id": "charming-cover",
   "metadata": {},
   "outputs": [],
   "source": []
  }
 ],
 "metadata": {
  "kernelspec": {
   "display_name": "Python 3",
   "language": "python",
   "name": "python3"
  },
  "language_info": {
   "codemirror_mode": {
    "name": "ipython",
    "version": 3
   },
   "file_extension": ".py",
   "mimetype": "text/x-python",
   "name": "python",
   "nbconvert_exporter": "python",
   "pygments_lexer": "ipython3",
   "version": "3.7.10"
  }
 },
 "nbformat": 4,
 "nbformat_minor": 5
}
