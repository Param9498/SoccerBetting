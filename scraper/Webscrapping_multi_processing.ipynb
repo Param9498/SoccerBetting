{
 "cells": [
  {
   "cell_type": "markdown",
   "metadata": {},
   "source": [
    "# Websrapping"
   ]
  },
  {
   "cell_type": "code",
   "execution_count": 1,
   "metadata": {
    "collapsed": true
   },
   "outputs": [],
   "source": [
    "import pandas as pd\n",
    "import requests\n",
    "from bs4 import BeautifulSoup\n",
    "import xlsxwriter\n",
    "import os\n",
    "import time"
   ]
  },
  {
   "cell_type": "code",
   "execution_count": 2,
   "metadata": {
    "collapsed": true
   },
   "outputs": [],
   "source": [
    "def scoresfixtures(link,ids):\n",
    "    '''\n",
    "    Description: This Class picks all the games that had in one season and combinate all links to one especific list\n",
    "    \n",
    "    Inputs:\n",
    "        - link: The link of the main page that have all season games desired.\n",
    "        - ids: The ID of the championship table\n",
    "        \n",
    "    Outputs:\n",
    "        - especific list that has all the links os all matches of the season\n",
    "    \n",
    "    \n",
    "    '''\n",
    "    req = requests.get(link)\n",
    "    if req.status_code == 200:\n",
    "        content = req.content\n",
    "\n",
    "    soup = BeautifulSoup(content, 'html.parser')\n",
    "    tb = soup.find(id=ids)\n",
    "\n",
    "    s1= []\n",
    "    s2= []\n",
    "    for i in tb.find_all(\"a\"):\n",
    "            s1.append(str(i))\n",
    "            s2.append(str(i.get_text('href')))\n",
    "\n",
    "\n",
    "    # Calling DataFrame constructor after zipping \n",
    "    # both lists, with columns specified \n",
    "    di = pd.DataFrame(list(zip(s1, s2)), \n",
    "                   columns =['Codes', 'ID']) \n",
    "\n",
    "    s4=[]\n",
    "    for i in di[\"Codes\"]:\n",
    "        i = i.replace('<a href=\"','')\n",
    "        i = i.replace('</a>','')\n",
    "        s4.append(str(i))\n",
    "\n",
    "\n",
    "    s5 = []\n",
    "\n",
    "    for i in di['Codes']:\n",
    "        if \"matches\" in i:\n",
    "            s5.append(str(i))\n",
    "        else:\n",
    "            s5.append(0)\n",
    "\n",
    "    s6 = []\n",
    "    for i in di[\"Codes\"]:\n",
    "        if '<a href=\"/en/squads/' in i:\n",
    "            i = i.replace('<a href=\"/en/squads/','')\n",
    "            i = i[0:8]\n",
    "            s6.append(str(i))\n",
    "        else:\n",
    "            s6.append(0)        \n",
    "\n",
    "    # Calling DataFrame constructor after zipping \n",
    "    # both lists, with columns specified \n",
    "    da = pd.DataFrame(list(zip(s1, s2,s4,s5,s6)), \n",
    "                   columns =['CODES', 'ID','URL_FINAL','PARTIDAS_2019',\"TEAM_CODE\"])        \n",
    "\n",
    "    s9 = []\n",
    "    for i in da[\"URL_FINAL\"]:\n",
    "        if 'Match Report' in i:\n",
    "            s9.append(str(i))\n",
    "        else:\n",
    "            pass\n",
    "    return s9\n"
   ]
  },
  {
   "cell_type": "code",
   "execution_count": 3,
   "metadata": {
    "collapsed": true,
    "tags": []
   },
   "outputs": [
    {
     "data": {
      "text/plain": [
       "['/en/matches/bf52349b/Fulham-Arsenal-September-12-2020-Premier-League\">Match Report',\n",
       " '/en/matches/db261cb0/Crystal-Palace-Southampton-September-12-2020-Premier-League\">Match Report',\n",
       " '/en/matches/21b58926/Liverpool-Leeds-United-September-12-2020-Premier-League\">Match Report',\n",
       " '/en/matches/78495ced/West-Ham-United-Newcastle-United-September-12-2020-Premier-League\">Match Report',\n",
       " '/en/matches/7dd01ca9/West-Bromwich-Albion-Leicester-City-September-13-2020-Premier-League\">Match Report',\n",
       " '/en/matches/fc7f9aa1/Tottenham-Hotspur-Everton-September-13-2020-Premier-League\">Match Report',\n",
       " '/en/matches/a3eb7a37/Sheffield-United-Wolverhampton-Wanderers-September-14-2020-Premier-League\">Match Report',\n",
       " '/en/matches/9d7641eb/Brighton-and-Hove-Albion-Chelsea-September-14-2020-Premier-League\">Match Report',\n",
       " '/en/matches/45bd1880/Everton-West-Bromwich-Albion-September-19-2020-Premier-League\">Match Report',\n",
       " '/en/matches/583c2b60/Leeds-United-Fulham-September-19-2020-Premier-League\">Match Report',\n",
       " '/en/matches/97279323/Manchester-United-Crystal-Palace-September-19-2020-Premier-League\">Match Report',\n",
       " '/en/matches/f4835ec2/Arsenal-West-Ham-United-September-19-2020-Premier-League\">Match Report',\n",
       " '/en/matches/967efd56/Southampton-Tottenham-Hotspur-September-20-2020-Premier-League\">Match Report',\n",
       " '/en/matches/845f6a86/Newcastle-United-Brighton-and-Hove-Albion-September-20-2020-Premier-League\">Match Report',\n",
       " '/en/matches/c64e5792/Chelsea-Liverpool-September-20-2020-Premier-League\">Match Report',\n",
       " '/en/matches/465b25a8/Leicester-City-Burnley-September-20-2020-Premier-League\">Match Report',\n",
       " '/en/matches/98b4b5b6/Aston-Villa-Sheffield-United-September-21-2020-Premier-League\">Match Report',\n",
       " '/en/matches/1c17eca3/Wolverhampton-Wanderers-Manchester-City-September-21-2020-Premier-League\">Match Report',\n",
       " '/en/matches/21495573/Brighton-and-Hove-Albion-Manchester-United-September-26-2020-Premier-League\">Match Report',\n",
       " '/en/matches/7387a72e/Crystal-Palace-Everton-September-26-2020-Premier-League\">Match Report',\n",
       " '/en/matches/d725a16c/West-Bromwich-Albion-Chelsea-September-26-2020-Premier-League\">Match Report',\n",
       " '/en/matches/ae113c54/Burnley-Southampton-September-26-2020-Premier-League\">Match Report',\n",
       " '/en/matches/51fb894e/Sheffield-United-Leeds-United-September-27-2020-Premier-League\">Match Report',\n",
       " '/en/matches/002c4e89/Tottenham-Hotspur-Newcastle-United-September-27-2020-Premier-League\">Match Report',\n",
       " '/en/matches/31c2a061/Manchester-City-Leicester-City-September-27-2020-Premier-League\">Match Report',\n",
       " '/en/matches/a223dd70/West-Ham-United-Wolverhampton-Wanderers-September-27-2020-Premier-League\">Match Report',\n",
       " '/en/matches/6b258be0/Fulham-Aston-Villa-September-28-2020-Premier-League\">Match Report',\n",
       " '/en/matches/ebe4e309/Liverpool-Arsenal-September-28-2020-Premier-League\">Match Report',\n",
       " '/en/matches/d97aa1b5/Chelsea-Crystal-Palace-October-3-2020-Premier-League\">Match Report',\n",
       " '/en/matches/3cbb397e/Everton-Brighton-and-Hove-Albion-October-3-2020-Premier-League\">Match Report',\n",
       " '/en/matches/5ce15b58/Leeds-United-Manchester-City-October-3-2020-Premier-League\">Match Report',\n",
       " '/en/matches/34ba607f/Newcastle-United-Burnley-October-3-2020-Premier-League\">Match Report',\n",
       " '/en/matches/a29866ec/Leicester-City-West-Ham-United-October-4-2020-Premier-League\">Match Report',\n",
       " '/en/matches/39864083/Southampton-West-Bromwich-Albion-October-4-2020-Premier-League\">Match Report',\n",
       " '/en/matches/09725cb3/Arsenal-Sheffield-United-October-4-2020-Premier-League\">Match Report',\n",
       " '/en/matches/8f989671/Wolverhampton-Wanderers-Fulham-October-4-2020-Premier-League\">Match Report',\n",
       " '/en/matches/cded7e69/Manchester-United-Tottenham-Hotspur-October-4-2020-Premier-League\">Match Report',\n",
       " '/en/matches/14a7771b/Aston-Villa-Liverpool-October-4-2020-Premier-League\">Match Report',\n",
       " '/en/matches/6da04e2d/Merseyside-Derby-Everton-Liverpool-October-17-2020-Premier-League\">Match Report',\n",
       " '/en/matches/9bd558f5/Chelsea-Southampton-October-17-2020-Premier-League\">Match Report',\n",
       " '/en/matches/e95b8546/Manchester-City-Arsenal-October-17-2020-Premier-League\">Match Report',\n",
       " '/en/matches/0b8239de/Newcastle-United-Manchester-United-October-17-2020-Premier-League\">Match Report',\n",
       " '/en/matches/5529e7a0/Sheffield-United-Fulham-October-18-2020-Premier-League\">Match Report',\n",
       " '/en/matches/e96818bc/Crystal-Palace-Brighton-and-Hove-Albion-October-18-2020-Premier-League\">Match Report',\n",
       " '/en/matches/17f0eec9/Tottenham-Hotspur-West-Ham-United-October-18-2020-Premier-League\">Match Report',\n",
       " '/en/matches/7751d8c1/Leicester-City-Aston-Villa-October-18-2020-Premier-League\">Match Report',\n",
       " '/en/matches/13f3ae88/West-Bromwich-Albion-Burnley-October-19-2020-Premier-League\">Match Report',\n",
       " '/en/matches/6a2c4518/Leeds-United-Wolverhampton-Wanderers-October-19-2020-Premier-League\">Match Report',\n",
       " '/en/matches/873ab775/Aston-Villa-Leeds-United-October-23-2020-Premier-League\">Match Report',\n",
       " '/en/matches/2b0c0eca/West-Ham-United-Manchester-City-October-24-2020-Premier-League\">Match Report',\n",
       " '/en/matches/8d896969/Fulham-Crystal-Palace-October-24-2020-Premier-League\">Match Report',\n",
       " '/en/matches/3aaf7c62/Manchester-United-Chelsea-October-24-2020-Premier-League\">Match Report',\n",
       " '/en/matches/0bc8d984/Liverpool-Sheffield-United-October-24-2020-Premier-League\">Match Report',\n",
       " '/en/matches/6439c025/Southampton-Everton-October-25-2020-Premier-League\">Match Report',\n",
       " '/en/matches/76661e3c/Wolverhampton-Wanderers-Newcastle-United-October-25-2020-Premier-League\">Match Report',\n",
       " '/en/matches/bcd3a9b4/Arsenal-Leicester-City-October-25-2020-Premier-League\">Match Report',\n",
       " '/en/matches/26452511/Brighton-and-Hove-Albion-West-Bromwich-Albion-October-26-2020-Premier-League\">Match Report',\n",
       " '/en/matches/4931660e/Burnley-Tottenham-Hotspur-October-26-2020-Premier-League\">Match Report',\n",
       " '/en/matches/e1741638/Wolverhampton-Wanderers-Crystal-Palace-October-30-2020-Premier-League\">Match Report',\n",
       " '/en/matches/9aadc93d/Sheffield-United-Manchester-City-October-31-2020-Premier-League\">Match Report',\n",
       " '/en/matches/0f158c5c/Burnley-Chelsea-October-31-2020-Premier-League\">Match Report',\n",
       " '/en/matches/56ad8025/Liverpool-West-Ham-United-October-31-2020-Premier-League\">Match Report',\n",
       " '/en/matches/235264ac/Aston-Villa-Southampton-November-1-2020-Premier-League\">Match Report',\n",
       " '/en/matches/448a43ee/Newcastle-United-Everton-November-1-2020-Premier-League\">Match Report',\n",
       " '/en/matches/75dd1359/Manchester-United-Arsenal-November-1-2020-Premier-League\">Match Report',\n",
       " '/en/matches/1d01ff0c/Tottenham-Hotspur-Brighton-and-Hove-Albion-November-1-2020-Premier-League\">Match Report',\n",
       " '/en/matches/f2b91282/Fulham-West-Bromwich-Albion-November-2-2020-Premier-League\">Match Report',\n",
       " '/en/matches/55d775ec/Leeds-United-Leicester-City-November-2-2020-Premier-League\">Match Report',\n",
       " '/en/matches/c23d7844/Brighton-and-Hove-Albion-Burnley-November-6-2020-Premier-League\">Match Report',\n",
       " '/en/matches/4117b695/Southampton-Newcastle-United-November-6-2020-Premier-League\">Match Report',\n",
       " '/en/matches/ab9f408d/Everton-Manchester-United-November-7-2020-Premier-League\">Match Report',\n",
       " '/en/matches/527aee54/Crystal-Palace-Leeds-United-November-7-2020-Premier-League\">Match Report',\n",
       " '/en/matches/089916ee/Chelsea-Sheffield-United-November-7-2020-Premier-League\">Match Report',\n",
       " '/en/matches/f075fddc/West-Ham-United-Fulham-November-7-2020-Premier-League\">Match Report',\n",
       " '/en/matches/90c0e34c/West-Bromwich-Albion-Tottenham-Hotspur-November-8-2020-Premier-League\">Match Report',\n",
       " '/en/matches/8407be08/Leicester-City-Wolverhampton-Wanderers-November-8-2020-Premier-League\">Match Report',\n",
       " '/en/matches/26382194/Manchester-City-Liverpool-November-8-2020-Premier-League\">Match Report',\n",
       " '/en/matches/90fd3597/Arsenal-Aston-Villa-November-8-2020-Premier-League\">Match Report',\n",
       " '/en/matches/dbcba6c6/Newcastle-United-Chelsea-November-21-2020-Premier-League\">Match Report',\n",
       " '/en/matches/dea0df40/Aston-Villa-Brighton-and-Hove-Albion-November-21-2020-Premier-League\">Match Report',\n",
       " '/en/matches/8a038069/Tottenham-Hotspur-Manchester-City-November-21-2020-Premier-League\">Match Report',\n",
       " '/en/matches/50004f43/Manchester-United-West-Bromwich-Albion-November-21-2020-Premier-League\">Match Report',\n",
       " '/en/matches/13524225/Fulham-Everton-November-22-2020-Premier-League\">Match Report',\n",
       " '/en/matches/8ed7d991/Sheffield-United-West-Ham-United-November-22-2020-Premier-League\">Match Report',\n",
       " '/en/matches/0dd6b39b/Leeds-United-Arsenal-November-22-2020-Premier-League\">Match Report',\n",
       " '/en/matches/cc230451/Liverpool-Leicester-City-November-22-2020-Premier-League\">Match Report',\n",
       " '/en/matches/1dde1d03/Burnley-Crystal-Palace-November-23-2020-Premier-League\">Match Report',\n",
       " '/en/matches/e5bfd125/Wolverhampton-Wanderers-Southampton-November-23-2020-Premier-League\">Match Report',\n",
       " '/en/matches/0d5962be/Crystal-Palace-Newcastle-United-November-27-2020-Premier-League\">Match Report',\n",
       " '/en/matches/31baf354/Brighton-and-Hove-Albion-Liverpool-November-28-2020-Premier-League\">Match Report',\n",
       " '/en/matches/2069ffbc/Manchester-City-Burnley-November-28-2020-Premier-League\">Match Report',\n",
       " '/en/matches/3eeb39c5/Everton-Leeds-United-November-28-2020-Premier-League\">Match Report',\n",
       " '/en/matches/bd68404c/West-Bromwich-Albion-Sheffield-United-November-28-2020-Premier-League\">Match Report',\n",
       " '/en/matches/e0a84e7e/Southampton-Manchester-United-November-29-2020-Premier-League\">Match Report',\n",
       " '/en/matches/58306243/Chelsea-Tottenham-Hotspur-November-29-2020-Premier-League\">Match Report',\n",
       " '/en/matches/fa17687c/Arsenal-Wolverhampton-Wanderers-November-29-2020-Premier-League\">Match Report',\n",
       " '/en/matches/ae493b10/Leicester-City-Fulham-November-30-2020-Premier-League\">Match Report',\n",
       " '/en/matches/2f67603c/West-Ham-United-Aston-Villa-November-30-2020-Premier-League\">Match Report',\n",
       " '/en/matches/399c7e1c/Burnley-Everton-December-5-2020-Premier-League\">Match Report',\n",
       " '/en/matches/887dfef6/Manchester-City-Fulham-December-5-2020-Premier-League\">Match Report',\n",
       " '/en/matches/c2206b97/West-Ham-United-Manchester-United-December-5-2020-Premier-League\">Match Report',\n",
       " '/en/matches/419abbc0/Chelsea-Leeds-United-December-5-2020-Premier-League\">Match Report',\n",
       " '/en/matches/ac9d70e3/West-Bromwich-Albion-Crystal-Palace-December-6-2020-Premier-League\">Match Report',\n",
       " '/en/matches/c1c08638/Sheffield-United-Leicester-City-December-6-2020-Premier-League\">Match Report',\n",
       " '/en/matches/35abfa2f/North-London-Derby-Tottenham-Hotspur-Arsenal-December-6-2020-Premier-League\">Match Report',\n",
       " '/en/matches/25249736/Liverpool-Wolverhampton-Wanderers-December-6-2020-Premier-League\">Match Report',\n",
       " '/en/matches/32356abc/Brighton-and-Hove-Albion-Southampton-December-7-2020-Premier-League\">Match Report',\n",
       " '/en/matches/2d36ffad/Leeds-United-West-Ham-United-December-11-2020-Premier-League\">Match Report',\n",
       " '/en/matches/f809a014/Wolverhampton-Wanderers-Aston-Villa-December-12-2020-Premier-League\">Match Report',\n",
       " '/en/matches/4a2a6f14/Newcastle-United-West-Bromwich-Albion-December-12-2020-Premier-League\">Match Report',\n",
       " '/en/matches/85cc70bb/Manchester-Derby-Manchester-United-Manchester-City-December-12-2020-Premier-League\">Match Report',\n",
       " '/en/matches/4847e3c3/Everton-Chelsea-December-12-2020-Premier-League\">Match Report',\n",
       " '/en/matches/9bec56c6/Southampton-Sheffield-United-December-13-2020-Premier-League\">Match Report',\n",
       " '/en/matches/9b0e267e/Crystal-Palace-Tottenham-Hotspur-December-13-2020-Premier-League\">Match Report',\n",
       " '/en/matches/5abb0bd1/Fulham-Liverpool-December-13-2020-Premier-League\">Match Report',\n",
       " '/en/matches/e4dc55d0/Arsenal-Burnley-December-13-2020-Premier-League\">Match Report',\n",
       " '/en/matches/964e6470/Leicester-City-Brighton-and-Hove-Albion-December-13-2020-Premier-League\">Match Report',\n",
       " '/en/matches/20bd0665/Wolverhampton-Wanderers-Chelsea-December-15-2020-Premier-League\">Match Report',\n",
       " '/en/matches/40b42ca1/Manchester-City-West-Bromwich-Albion-December-15-2020-Premier-League\">Match Report',\n",
       " '/en/matches/0ceceee4/Arsenal-Southampton-December-16-2020-Premier-League\">Match Report',\n",
       " '/en/matches/b30c816c/Leicester-City-Everton-December-16-2020-Premier-League\">Match Report',\n",
       " '/en/matches/b52c441b/Leeds-United-Newcastle-United-December-16-2020-Premier-League\">Match Report',\n",
       " '/en/matches/98bf02e0/West-Ham-United-Crystal-Palace-December-16-2020-Premier-League\">Match Report',\n",
       " '/en/matches/eb73d532/Fulham-Brighton-and-Hove-Albion-December-16-2020-Premier-League\">Match Report',\n",
       " '/en/matches/966f86fe/Liverpool-Tottenham-Hotspur-December-16-2020-Premier-League\">Match Report',\n",
       " '/en/matches/5d89f60c/Aston-Villa-Burnley-December-17-2020-Premier-League\">Match Report',\n",
       " '/en/matches/3b3cc5f6/Sheffield-United-Manchester-United-December-17-2020-Premier-League\">Match Report',\n",
       " '/en/matches/d05715a8/Crystal-Palace-Liverpool-December-19-2020-Premier-League\">Match Report',\n",
       " '/en/matches/8d4a02ae/Southampton-Manchester-City-December-19-2020-Premier-League\">Match Report',\n",
       " '/en/matches/72fa1993/Everton-Arsenal-December-19-2020-Premier-League\">Match Report',\n",
       " '/en/matches/3ae84056/Newcastle-United-Fulham-December-19-2020-Premier-League\">Match Report',\n",
       " '/en/matches/d1273e90/Brighton-and-Hove-Albion-Sheffield-United-December-20-2020-Premier-League\">Match Report',\n",
       " '/en/matches/56ffe356/Tottenham-Hotspur-Leicester-City-December-20-2020-Premier-League\">Match Report',\n",
       " '/en/matches/b7ab53b3/Manchester-United-Leeds-United-December-20-2020-Premier-League\">Match Report',\n",
       " '/en/matches/4bbe55ff/West-Bromwich-Albion-Aston-Villa-December-20-2020-Premier-League\">Match Report',\n",
       " '/en/matches/4e106790/Burnley-Wolverhampton-Wanderers-December-21-2020-Premier-League\">Match Report',\n",
       " '/en/matches/9a718e42/Chelsea-West-Ham-United-December-21-2020-Premier-League\">Match Report',\n",
       " '/en/matches/33c8b5c8/Leicester-City-Manchester-United-December-26-2020-Premier-League\">Match Report',\n",
       " '/en/matches/cf86c208/Fulham-Southampton-December-26-2020-Premier-League\">Match Report',\n",
       " '/en/matches/537b6ef8/Aston-Villa-Crystal-Palace-December-26-2020-Premier-League\">Match Report',\n",
       " '/en/matches/c5de8a0c/North-West-London-Derby-Arsenal-Chelsea-December-26-2020-Premier-League\">Match Report',\n",
       " '/en/matches/870d9436/Sheffield-United-Everton-December-26-2020-Premier-League\">Match Report',\n",
       " '/en/matches/c1c40b30/Manchester-City-Newcastle-United-December-26-2020-Premier-League\">Match Report',\n",
       " '/en/matches/d54f6293/Leeds-United-Burnley-December-27-2020-Premier-League\">Match Report',\n",
       " '/en/matches/7ba8c6e9/West-Ham-United-Brighton-and-Hove-Albion-December-27-2020-Premier-League\">Match Report',\n",
       " '/en/matches/daa09f69/Liverpool-West-Bromwich-Albion-December-27-2020-Premier-League\">Match Report',\n",
       " '/en/matches/f50faef3/Wolverhampton-Wanderers-Tottenham-Hotspur-December-27-2020-Premier-League\">Match Report',\n",
       " '/en/matches/77437741/Crystal-Palace-Leicester-City-December-28-2020-Premier-League\">Match Report',\n",
       " '/en/matches/ac7d1071/Chelsea-Aston-Villa-December-28-2020-Premier-League\">Match Report',\n",
       " '/en/matches/7577b54b/Southampton-West-Ham-United-December-29-2020-Premier-League\">Match Report',\n",
       " '/en/matches/21f2b720/West-Bromwich-Albion-Leeds-United-December-29-2020-Premier-League\">Match Report',\n",
       " '/en/matches/fdca0bef/Brighton-and-Hove-Albion-Arsenal-December-29-2020-Premier-League\">Match Report',\n",
       " '/en/matches/b33de500/Burnley-Sheffield-United-December-29-2020-Premier-League\">Match Report',\n",
       " '/en/matches/a8d659e4/Manchester-United-Wolverhampton-Wanderers-December-29-2020-Premier-League\">Match Report',\n",
       " '/en/matches/385cda3f/Newcastle-United-Liverpool-December-30-2020-Premier-League\">Match Report',\n",
       " '/en/matches/0cd189c5/Everton-West-Ham-United-January-1-2021-Premier-League\">Match Report',\n",
       " '/en/matches/0ae3a66d/Manchester-United-Aston-Villa-January-1-2021-Premier-League\">Match Report',\n",
       " '/en/matches/93463aad/Tottenham-Hotspur-Leeds-United-January-2-2021-Premier-League\">Match Report',\n",
       " '/en/matches/84a373f5/Crystal-Palace-Sheffield-United-January-2-2021-Premier-League\">Match Report',\n",
       " '/en/matches/abeb80b7/Brighton-and-Hove-Albion-Wolverhampton-Wanderers-January-2-2021-Premier-League\">Match Report',\n",
       " '/en/matches/a56531b0/West-Bromwich-Albion-Arsenal-January-2-2021-Premier-League\">Match Report',\n",
       " '/en/matches/4c205b24/Newcastle-United-Leicester-City-January-3-2021-Premier-League\">Match Report',\n",
       " '/en/matches/85507602/Chelsea-Manchester-City-January-3-2021-Premier-League\">Match Report',\n",
       " '/en/matches/d0482032/Southampton-Liverpool-January-4-2021-Premier-League\">Match Report',\n",
       " '/en/matches/18ccfdb9/Sheffield-United-Newcastle-United-January-12-2021-Premier-League\">Match Report',\n",
       " '/en/matches/2c8aa556/Burnley-Manchester-United-January-12-2021-Premier-League\">Match Report',\n",
       " '/en/matches/8cbb9119/Wolverhampton-Wanderers-Everton-January-12-2021-Premier-League\">Match Report',\n",
       " '/en/matches/9926f1f0/Manchester-City-Brighton-and-Hove-Albion-January-13-2021-Premier-League\">Match Report',\n",
       " '/en/matches/fcad17a1/Tottenham-Hotspur-Fulham-January-13-2021-Premier-League\">Match Report',\n",
       " '/en/matches/0476b43a/Arsenal-Crystal-Palace-January-14-2021-Premier-League\">Match Report',\n",
       " '/en/matches/93420516/Wolverhampton-Wanderers-West-Bromwich-Albion-January-16-2021-Premier-League\">Match Report',\n",
       " '/en/matches/ade7aac2/Leeds-United-Brighton-and-Hove-Albion-January-16-2021-Premier-League\">Match Report',\n",
       " '/en/matches/1b06e352/West-Ham-United-Burnley-January-16-2021-Premier-League\">Match Report',\n",
       " '/en/matches/714c642d/Fulham-Chelsea-January-16-2021-Premier-League\">Match Report',\n",
       " '/en/matches/85d4ec49/Leicester-City-Southampton-January-16-2021-Premier-League\">Match Report',\n",
       " '/en/matches/c52b1c4f/Sheffield-United-Tottenham-Hotspur-January-17-2021-Premier-League\">Match Report',\n",
       " '/en/matches/7e1384ef/North-West-Derby-Liverpool-Manchester-United-January-17-2021-Premier-League\">Match Report',\n",
       " '/en/matches/15d2f67c/Manchester-City-Crystal-Palace-January-17-2021-Premier-League\">Match Report',\n",
       " '/en/matches/620df215/Arsenal-Newcastle-United-January-18-2021-Premier-League\">Match Report',\n",
       " '/en/matches/42daddbb/West-Ham-United-West-Bromwich-Albion-January-19-2021-Premier-League\">Match Report',\n",
       " '/en/matches/8467b110/Leicester-City-Chelsea-January-19-2021-Premier-League\">Match Report',\n",
       " '/en/matches/c9710420/Manchester-City-Aston-Villa-January-20-2021-Premier-League\">Match Report',\n",
       " '/en/matches/2a3855db/Fulham-Manchester-United-January-20-2021-Premier-League\">Match Report',\n",
       " '/en/matches/787d11cc/Liverpool-Burnley-January-21-2021-Premier-League\">Match Report',\n",
       " '/en/matches/b2143993/Aston-Villa-Newcastle-United-January-23-2021-Premier-League\">Match Report',\n",
       " '/en/matches/831d8a36/Newcastle-United-Leeds-United-January-26-2021-Premier-League\">Match Report',\n",
       " '/en/matches/aab6365d/Crystal-Palace-West-Ham-United-January-26-2021-Premier-League\">Match Report',\n",
       " '/en/matches/83f7b656/West-Bromwich-Albion-Manchester-City-January-26-2021-Premier-League\">Match Report',\n",
       " '/en/matches/ac54f8a6/Southampton-Arsenal-January-26-2021-Premier-League\">Match Report',\n",
       " '/en/matches/f45d57b7/Burnley-Aston-Villa-January-27-2021-Premier-League\">Match Report',\n",
       " '/en/matches/42eeae0e/Chelsea-Wolverhampton-Wanderers-January-27-2021-Premier-League\">Match Report',\n",
       " '/en/matches/ea5464bd/Brighton-and-Hove-Albion-Fulham-January-27-2021-Premier-League\">Match Report',\n",
       " '/en/matches/6e963555/Manchester-United-Sheffield-United-January-27-2021-Premier-League\">Match Report',\n",
       " '/en/matches/3e4ff1e0/Everton-Leicester-City-January-27-2021-Premier-League\">Match Report',\n",
       " '/en/matches/17bac3d1/Tottenham-Hotspur-Liverpool-January-28-2021-Premier-League\">Match Report',\n",
       " '/en/matches/88053fb0/Everton-Newcastle-United-January-30-2021-Premier-League\">Match Report',\n",
       " '/en/matches/150c80d7/Manchester-City-Sheffield-United-January-30-2021-Premier-League\">Match Report',\n",
       " '/en/matches/d1517c30/West-Bromwich-Albion-Fulham-January-30-2021-Premier-League\">Match Report',\n",
       " '/en/matches/111bd050/Crystal-Palace-Wolverhampton-Wanderers-January-30-2021-Premier-League\">Match Report',\n",
       " '/en/matches/0fcaaa5f/Arsenal-Manchester-United-January-30-2021-Premier-League\">Match Report',\n",
       " '/en/matches/10d13e5b/Southampton-Aston-Villa-January-30-2021-Premier-League\">Match Report',\n",
       " '/en/matches/3372f3f3/Chelsea-Burnley-January-31-2021-Premier-League\">Match Report',\n",
       " '/en/matches/e5e46ead/Leicester-City-Leeds-United-January-31-2021-Premier-League\">Match Report',\n",
       " '/en/matches/3de3a736/West-Ham-United-Liverpool-January-31-2021-Premier-League\">Match Report',\n",
       " '/en/matches/4663c253/Brighton-and-Hove-Albion-Tottenham-Hotspur-January-31-2021-Premier-League\">Match Report',\n",
       " '/en/matches/2d3d863d/Sheffield-United-West-Bromwich-Albion-February-2-2021-Premier-League\">Match Report',\n",
       " '/en/matches/558fa672/Wolverhampton-Wanderers-Arsenal-February-2-2021-Premier-League\">Match Report',\n",
       " '/en/matches/ca8297c0/Newcastle-United-Crystal-Palace-February-2-2021-Premier-League\">Match Report',\n",
       " '/en/matches/37a9f2fd/Manchester-United-Southampton-February-2-2021-Premier-League\">Match Report',\n",
       " '/en/matches/a05d7ae7/Burnley-Manchester-City-February-3-2021-Premier-League\">Match Report',\n",
       " '/en/matches/bd0673ed/Fulham-Leicester-City-February-3-2021-Premier-League\">Match Report',\n",
       " '/en/matches/d9b96ee1/Leeds-United-Everton-February-3-2021-Premier-League\">Match Report',\n",
       " '/en/matches/314c860f/Liverpool-Brighton-and-Hove-Albion-February-3-2021-Premier-League\">Match Report',\n",
       " '/en/matches/8f9d1856/Aston-Villa-West-Ham-United-February-3-2021-Premier-League\">Match Report',\n",
       " '/en/matches/7d98a679/Tottenham-Hotspur-Chelsea-February-4-2021-Premier-League\">Match Report',\n",
       " '/en/matches/224bcfc4/Aston-Villa-Arsenal-February-6-2021-Premier-League\">Match Report',\n",
       " '/en/matches/4400251e/Burnley-Brighton-and-Hove-Albion-February-6-2021-Premier-League\">Match Report',\n",
       " '/en/matches/5313627a/Newcastle-United-Southampton-February-6-2021-Premier-League\">Match Report',\n",
       " '/en/matches/d18e21ab/Fulham-West-Ham-United-February-6-2021-Premier-League\">Match Report',\n",
       " '/en/matches/6504b158/Manchester-United-Everton-February-6-2021-Premier-League\">Match Report',\n",
       " '/en/matches/4a652b81/Tottenham-Hotspur-West-Bromwich-Albion-February-7-2021-Premier-League\">Match Report',\n",
       " '/en/matches/dca0be20/Wolverhampton-Wanderers-Leicester-City-February-7-2021-Premier-League\">Match Report',\n",
       " '/en/matches/e044d71d/Liverpool-Manchester-City-February-7-2021-Premier-League\">Match Report',\n",
       " '/en/matches/d3467620/Sheffield-United-Chelsea-February-7-2021-Premier-League\">Match Report',\n",
       " '/en/matches/ff2cee2b/Leeds-United-Crystal-Palace-February-8-2021-Premier-League\">Match Report',\n",
       " '/en/matches/666f6961/Leicester-City-Liverpool-February-13-2021-Premier-League\">Match Report',\n",
       " '/en/matches/34a4b546/Crystal-Palace-Burnley-February-13-2021-Premier-League\">Match Report',\n",
       " '/en/matches/5d0cd646/Manchester-City-Tottenham-Hotspur-February-13-2021-Premier-League\">Match Report',\n",
       " '/en/matches/c7922348/Brighton-and-Hove-Albion-Aston-Villa-February-13-2021-Premier-League\">Match Report',\n",
       " '/en/matches/34682a95/Southampton-Wolverhampton-Wanderers-February-14-2021-Premier-League\">Match Report',\n",
       " '/en/matches/80124feb/West-Bromwich-Albion-Manchester-United-February-14-2021-Premier-League\">Match Report',\n",
       " '/en/matches/85624e5e/Arsenal-Leeds-United-February-14-2021-Premier-League\">Match Report',\n",
       " '/en/matches/46f84386/Everton-Fulham-February-14-2021-Premier-League\">Match Report',\n",
       " '/en/matches/d6167896/West-Ham-United-Sheffield-United-February-15-2021-Premier-League\">Match Report',\n",
       " '/en/matches/dd033287/Chelsea-Newcastle-United-February-15-2021-Premier-League\">Match Report',\n",
       " '/en/matches/6285d050/Burnley-Fulham-February-17-2021-Premier-League\">Match Report',\n",
       " '/en/matches/78270b8a/Everton-Manchester-City-February-17-2021-Premier-League\">Match Report',\n",
       " '/en/matches/ae2d6f15/Wolverhampton-Wanderers-Leeds-United-February-19-2021-Premier-League\">Match Report',\n",
       " '/en/matches/9e4c8c99/Southampton-Chelsea-February-20-2021-Premier-League\">Match Report',\n",
       " '/en/matches/072e8501/Burnley-West-Bromwich-Albion-February-20-2021-Premier-League\">Match Report',\n",
       " '/en/matches/e4ac45fb/Merseyside-Derby-Liverpool-Everton-February-20-2021-Premier-League\">Match Report',\n",
       " '/en/matches/b1892d66/Fulham-Sheffield-United-February-20-2021-Premier-League\">Match Report',\n",
       " '/en/matches/59222b5f/West-Ham-United-Tottenham-Hotspur-February-21-2021-Premier-League\">Match Report',\n",
       " '/en/matches/2c6f8c0e/Aston-Villa-Leicester-City-February-21-2021-Premier-League\">Match Report',\n",
       " '/en/matches/2dedf408/Arsenal-Manchester-City-February-21-2021-Premier-League\">Match Report',\n",
       " '/en/matches/401e0d48/Manchester-United-Newcastle-United-February-21-2021-Premier-League\">Match Report',\n",
       " '/en/matches/86f378b6/Brighton-and-Hove-Albion-Crystal-Palace-February-22-2021-Premier-League\">Match Report',\n",
       " '/en/matches/6a198933/Leeds-United-Southampton-February-23-2021-Premier-League\">Match Report',\n",
       " '/en/matches/6faa8392/Manchester-City-West-Ham-United-February-27-2021-Premier-League\">Match Report',\n",
       " '/en/matches/ff18265a/West-Bromwich-Albion-Brighton-and-Hove-Albion-February-27-2021-Premier-League\">Match Report',\n",
       " '/en/matches/70056c3b/Leeds-United-Aston-Villa-February-27-2021-Premier-League\">Match Report',\n",
       " '/en/matches/99e5e3dc/Newcastle-United-Wolverhampton-Wanderers-February-27-2021-Premier-League\">Match Report',\n",
       " '/en/matches/2d530fe3/Crystal-Palace-Fulham-February-28-2021-Premier-League\">Match Report',\n",
       " '/en/matches/88b309f1/Leicester-City-Arsenal-February-28-2021-Premier-League\">Match Report',\n",
       " '/en/matches/d28c364e/Tottenham-Hotspur-Burnley-February-28-2021-Premier-League\">Match Report',\n",
       " '/en/matches/9ba4df6a/Chelsea-Manchester-United-February-28-2021-Premier-League\">Match Report',\n",
       " '/en/matches/3826d9aa/Sheffield-United-Liverpool-February-28-2021-Premier-League\">Match Report',\n",
       " '/en/matches/a81e1c82/Everton-Southampton-March-1-2021-Premier-League\">Match Report',\n",
       " '/en/matches/7145e0a8/Manchester-City-Wolverhampton-Wanderers-March-2-2021-Premier-League\">Match Report',\n",
       " '/en/matches/3a9c1c4d/Sheffield-United-Aston-Villa-March-3-2021-Premier-League\">Match Report',\n",
       " '/en/matches/5e1c69aa/Burnley-Leicester-City-March-3-2021-Premier-League\">Match Report',\n",
       " '/en/matches/aecb46ac/Crystal-Palace-Manchester-United-March-3-2021-Premier-League\">Match Report',\n",
       " '/en/matches/ee055741/West-Bromwich-Albion-Everton-March-4-2021-Premier-League\">Match Report',\n",
       " '/en/matches/44b3d20c/Fulham-Tottenham-Hotspur-March-4-2021-Premier-League\">Match Report',\n",
       " '/en/matches/86920e88/Liverpool-Chelsea-March-4-2021-Premier-League\">Match Report',\n",
       " '/en/matches/db9a5ac8/Burnley-Arsenal-March-6-2021-Premier-League\">Match Report',\n",
       " '/en/matches/9d08bb4e/Sheffield-United-Southampton-March-6-2021-Premier-League\">Match Report',\n",
       " '/en/matches/e52c1e46/Aston-Villa-Wolverhampton-Wanderers-March-6-2021-Premier-League\">Match Report',\n",
       " '/en/matches/6fc64077/Brighton-and-Hove-Albion-Leicester-City-March-6-2021-Premier-League\">Match Report',\n",
       " '/en/matches/a096c32f/West-Bromwich-Albion-Newcastle-United-March-7-2021-Premier-League\">Match Report',\n",
       " '/en/matches/5826a836/Liverpool-Fulham-March-7-2021-Premier-League\">Match Report',\n",
       " '/en/matches/28ebbc70/Manchester-Derby-Manchester-City-Manchester-United-March-7-2021-Premier-League\">Match Report',\n",
       " '/en/matches/330fc75f/Tottenham-Hotspur-Crystal-Palace-March-7-2021-Premier-League\">Match Report',\n",
       " '/en/matches/7e4a240e/Chelsea-Everton-March-8-2021-Premier-League\">Match Report',\n",
       " '/en/matches/c3b4d1ba/West-Ham-United-Leeds-United-March-8-2021-Premier-League\">Match Report',\n",
       " '/en/matches/ba04db4f/Manchester-City-Southampton-March-10-2021-Premier-League\">Match Report',\n",
       " '/en/matches/5ac8e391/Newcastle-United-Aston-Villa-March-12-2021-Premier-League\">Match Report',\n",
       " '/en/matches/a711769f/Leeds-United-Chelsea-March-13-2021-Premier-League\">Match Report',\n",
       " '/en/matches/29954372/Crystal-Palace-West-Bromwich-Albion-March-13-2021-Premier-League\">Match Report',\n",
       " '/en/matches/91cce376/Everton-Burnley-March-13-2021-Premier-League\">Match Report',\n",
       " '/en/matches/279b0eb5/Fulham-Manchester-City-March-13-2021-Premier-League\">Match Report',\n",
       " '/en/matches/b40eb9c6/Southampton-Brighton-and-Hove-Albion-March-14-2021-Premier-League\">Match Report',\n",
       " '/en/matches/d3bc5214/Leicester-City-Sheffield-United-March-14-2021-Premier-League\">Match Report',\n",
       " '/en/matches/127b8258/North-London-Derby-Arsenal-Tottenham-Hotspur-March-14-2021-Premier-League\">Match Report',\n",
       " '/en/matches/05c95367/Manchester-United-West-Ham-United-March-14-2021-Premier-League\">Match Report',\n",
       " '/en/matches/ad3063c2/Wolverhampton-Wanderers-Liverpool-March-15-2021-Premier-League\">Match Report',\n",
       " '/en/matches/05e3dd18/Fulham-Leeds-United-March-19-2021-Premier-League\">Match Report',\n",
       " '/en/matches/1daf63a9/Brighton-and-Hove-Albion-Newcastle-United-March-20-2021-Premier-League\">Match Report',\n",
       " '/en/matches/c592a3d7/West-Ham-United-Arsenal-March-21-2021-Premier-League\">Match Report',\n",
       " '/en/matches/faf3633c/Aston-Villa-Tottenham-Hotspur-March-21-2021-Premier-League\">Match Report',\n",
       " '/en/matches/c5d6a493/Chelsea-West-Bromwich-Albion-April-3-2021-Premier-League\">Match Report',\n",
       " '/en/matches/c4ed64b9/Leeds-United-Sheffield-United-April-3-2021-Premier-League\">Match Report',\n",
       " '/en/matches/d798017f/Leicester-City-Manchester-City-April-3-2021-Premier-League\">Match Report',\n",
       " '/en/matches/562d1981/Arsenal-Liverpool-April-3-2021-Premier-League\">Match Report',\n",
       " '/en/matches/2c313b76/Southampton-Burnley-April-4-2021-Premier-League\">Match Report',\n",
       " '/en/matches/7a399858/Newcastle-United-Tottenham-Hotspur-April-4-2021-Premier-League\">Match Report',\n",
       " '/en/matches/a2d96ab5/Aston-Villa-Fulham-April-4-2021-Premier-League\">Match Report',\n",
       " '/en/matches/de17a70e/Manchester-United-Brighton-and-Hove-Albion-April-4-2021-Premier-League\">Match Report',\n",
       " '/en/matches/66f16cd5/Everton-Crystal-Palace-April-5-2021-Premier-League\">Match Report',\n",
       " '/en/matches/4c2f6a7b/Wolverhampton-Wanderers-West-Ham-United-April-5-2021-Premier-League\">Match Report',\n",
       " '/en/matches/be1ee647/Fulham-Wolverhampton-Wanderers-April-9-2021-Premier-League\">Match Report',\n",
       " '/en/matches/ad969519/Manchester-City-Leeds-United-April-10-2021-Premier-League\">Match Report',\n",
       " '/en/matches/20bdebdc/Liverpool-Aston-Villa-April-10-2021-Premier-League\">Match Report',\n",
       " '/en/matches/54b07679/Crystal-Palace-Chelsea-April-10-2021-Premier-League\">Match Report',\n",
       " '/en/matches/daebaaa1/Burnley-Newcastle-United-April-11-2021-Premier-League\">Match Report',\n",
       " '/en/matches/06b2801a/West-Ham-United-Leicester-City-April-11-2021-Premier-League\">Match Report',\n",
       " '/en/matches/a51d567c/Tottenham-Hotspur-Manchester-United-April-11-2021-Premier-League\">Match Report',\n",
       " '/en/matches/34395b54/Sheffield-United-Arsenal-April-11-2021-Premier-League\">Match Report',\n",
       " '/en/matches/3dee3681/West-Bromwich-Albion-Southampton-April-12-2021-Premier-League\">Match Report',\n",
       " '/en/matches/ac6ac8f8/Brighton-and-Hove-Albion-Everton-April-12-2021-Premier-League\">Match Report',\n",
       " '/en/matches/ebeb462d/Everton-Tottenham-Hotspur-April-16-2021-Premier-League\">Match Report',\n",
       " '/en/matches/25a3b695/Newcastle-United-West-Ham-United-April-17-2021-Premier-League\">Match Report',\n",
       " '/en/matches/07745ff2/Wolverhampton-Wanderers-Sheffield-United-April-17-2021-Premier-League\">Match Report',\n",
       " '/en/matches/a19ff865/Arsenal-Fulham-April-18-2021-Premier-League\">Match Report',\n",
       " '/en/matches/3e00561f/Manchester-United-Burnley-April-18-2021-Premier-League\">Match Report',\n",
       " '/en/matches/6c0666e6/Leeds-United-Liverpool-April-19-2021-Premier-League\">Match Report',\n",
       " '/en/matches/07b4e58b/Chelsea-Brighton-and-Hove-Albion-April-20-2021-Premier-League\">Match Report',\n",
       " '/en/matches/81a7befa/Tottenham-Hotspur-Southampton-April-21-2021-Premier-League\">Match Report',\n",
       " '/en/matches/ac46a079/Aston-Villa-Manchester-City-April-21-2021-Premier-League\">Match Report',\n",
       " '/en/matches/be6edfdf/Leicester-City-West-Bromwich-Albion-April-22-2021-Premier-League\">Match Report',\n",
       " '/en/matches/30f36320/Arsenal-Everton-April-23-2021-Premier-League\">Match Report',\n",
       " '/en/matches/81e8aaf4/Liverpool-Newcastle-United-April-24-2021-Premier-League\">Match Report',\n",
       " '/en/matches/ea1579bb/West-Ham-United-Chelsea-April-24-2021-Premier-League\">Match Report',\n",
       " '/en/matches/1ef0a8f2/Sheffield-United-Brighton-and-Hove-Albion-April-24-2021-Premier-League\">Match Report',\n",
       " '/en/matches/5656770f/Wolverhampton-Wanderers-Burnley-April-25-2021-Premier-League\">Match Report',\n",
       " '/en/matches/8422804d/Leeds-United-Manchester-United-April-25-2021-Premier-League\">Match Report',\n",
       " '/en/matches/2ab535fa/Aston-Villa-West-Bromwich-Albion-April-25-2021-Premier-League\">Match Report',\n",
       " '/en/matches/b30b8887/Leicester-City-Crystal-Palace-April-26-2021-Premier-League\">Match Report',\n",
       " '/en/matches/c0d4f879/Southampton-Leicester-City-April-30-2021-Premier-League\">Match Report',\n",
       " '/en/matches/bf22075a/Crystal-Palace-Manchester-City-May-1-2021-Premier-League\">Match Report',\n",
       " '/en/matches/1e2ba709/Brighton-and-Hove-Albion-Leeds-United-May-1-2021-Premier-League\">Match Report',\n",
       " '/en/matches/44d49bd5/Chelsea-Fulham-May-1-2021-Premier-League\">Match Report',\n",
       " '/en/matches/2452619d/Everton-Aston-Villa-May-1-2021-Premier-League\">Match Report',\n",
       " '/en/matches/af2c27de/Newcastle-United-Arsenal-May-2-2021-Premier-League\">Match Report',\n",
       " '/en/matches/8b2e31ef/Tottenham-Hotspur-Sheffield-United-May-2-2021-Premier-League\">Match Report',\n",
       " '/en/matches/378a8a95/West-Bromwich-Albion-Wolverhampton-Wanderers-May-3-2021-Premier-League\">Match Report',\n",
       " '/en/matches/a89e62a7/Burnley-West-Ham-United-May-3-2021-Premier-League\">Match Report']"
      ]
     },
     "execution_count": 3,
     "metadata": {},
     "output_type": "execute_result"
    }
   ],
   "source": [
    "# test\n",
    "scoresfixtures(\"https://fbref.com/en/comps/9/schedule/Premier-League-Scores-and-Fixtures\",\"div_sched_10728_1\")"
   ]
  },
  {
   "cell_type": "code",
   "execution_count": 4,
   "metadata": {},
   "outputs": [
    {
     "data": {
      "text/plain": [
       "337"
      ]
     },
     "execution_count": 4,
     "metadata": {},
     "output_type": "execute_result"
    }
   ],
   "source": [
    "len(scoresfixtures(\"https://fbref.com/en/comps/9/schedule/Premier-League-Scores-and-Fixtures\", \"div_sched_10728_1\"))"
   ]
  },
  {
   "cell_type": "markdown",
   "metadata": {},
   "source": [
    "### For testing"
   ]
  },
  {
   "cell_type": "code",
   "execution_count": 21,
   "metadata": {},
   "outputs": [
    {
     "data": {
      "text/plain": [
       "'https://fbref.com/en/matches/f4fca137/Montpellier-Marseille-March-14-2020-Ligue-1\">Match Report'"
      ]
     },
     "execution_count": 21,
     "metadata": {},
     "output_type": "execute_result"
    }
   ],
   "source": [
    "url_pg"
   ]
  },
  {
   "cell_type": "code",
   "execution_count": 30,
   "metadata": {
    "collapsed": true
   },
   "outputs": [],
   "source": [
    "pg = 'https://fbref.com'\n",
    "url = scoresfixtures(\"https://fbref.com/en/comps/13/3243/schedule/2019-2020-Ligue-1-Scores-and-Fixtures\", \"div_sched_3243_1\")\n",
    "url_pg = pg+ url\n",
    "req = requests.get(url_pg)\n",
    "\n",
    "content = req.content\n",
    "soup = BeautifulSoup(content, 'html.parser')"
   ]
  },
  {
   "cell_type": "code",
   "execution_count": 31,
   "metadata": {
    "collapsed": true
   },
   "outputs": [
    {
     "ename": "ValueError",
     "evalue": "invalid literal for int() with base 10: '>]'",
     "output_type": "error",
     "traceback": [
      "\u001b[1;31m---------------------------------------------------------------------------\u001b[0m",
      "\u001b[1;31mValueError\u001b[0m                                Traceback (most recent call last)",
      "\u001b[1;32m<ipython-input-31-55877e9157ba>\u001b[0m in \u001b[0;36m<module>\u001b[1;34m\u001b[0m\n\u001b[0;32m      1\u001b[0m \u001b[0mpercentage\u001b[0m \u001b[1;33m=\u001b[0m \u001b[0mstr\u001b[0m\u001b[1;33m(\u001b[0m\u001b[0msoup\u001b[0m\u001b[1;33m.\u001b[0m\u001b[0mfind_all\u001b[0m\u001b[1;33m(\u001b[0m\u001b[1;34m'strong'\u001b[0m\u001b[1;33m)\u001b[0m\u001b[1;33m)\u001b[0m\u001b[1;33m.\u001b[0m\u001b[0msplit\u001b[0m\u001b[1;33m(\u001b[0m\u001b[1;34m'%'\u001b[0m\u001b[1;33m)\u001b[0m\u001b[1;33m\u001b[0m\u001b[1;33m\u001b[0m\u001b[0m\n\u001b[1;32m----> 2\u001b[1;33m \u001b[0mpossession_1\u001b[0m \u001b[1;33m=\u001b[0m \u001b[0mint\u001b[0m\u001b[1;33m(\u001b[0m\u001b[0mpercentage\u001b[0m\u001b[1;33m[\u001b[0m\u001b[1;36m0\u001b[0m\u001b[1;33m]\u001b[0m\u001b[1;33m[\u001b[0m\u001b[1;33m-\u001b[0m\u001b[1;36m2\u001b[0m\u001b[1;33m:\u001b[0m\u001b[1;33m]\u001b[0m\u001b[1;33m)\u001b[0m\u001b[1;33m\u001b[0m\u001b[1;33m\u001b[0m\u001b[0m\n\u001b[0m\u001b[0;32m      3\u001b[0m \u001b[0mpossession_2\u001b[0m \u001b[1;33m=\u001b[0m \u001b[0mint\u001b[0m\u001b[1;33m(\u001b[0m\u001b[0mpercentage\u001b[0m\u001b[1;33m[\u001b[0m\u001b[1;36m1\u001b[0m\u001b[1;33m]\u001b[0m\u001b[1;33m[\u001b[0m\u001b[1;33m-\u001b[0m\u001b[1;36m2\u001b[0m\u001b[1;33m:\u001b[0m\u001b[1;33m]\u001b[0m\u001b[1;33m)\u001b[0m\u001b[1;33m\u001b[0m\u001b[1;33m\u001b[0m\u001b[0m\n",
      "\u001b[1;31mValueError\u001b[0m: invalid literal for int() with base 10: '>]'"
     ]
    }
   ],
   "source": [
    "percentage = str(soup.find_all('strong')).split('%')\n",
    "possession_1 = int(percentage[0][-2:])\n",
    "possession_2 = int(percentage[1][-2:])"
   ]
  },
  {
   "cell_type": "code",
   "execution_count": 7,
   "metadata": {},
   "outputs": [
    {
     "data": {
      "text/plain": [
       "66.7"
      ]
     },
     "execution_count": 7,
     "metadata": {},
     "output_type": "execute_result"
    }
   ],
   "source": [
    "save = str(soup.find_all('td')).split(\"save_pct\")\n",
    "save1 = save[1].split('>')[1].split('<')[0]\n",
    "save2 = save[2].split('>')[1].split('<')[0]\n",
    "save_1 = float(save1) if save1 != '' else 0\n",
    "save_2 = float(save2) if save2 != '' else 0\n",
    "\n",
    "save_2"
   ]
  },
  {
   "cell_type": "code",
   "execution_count": 8,
   "metadata": {
    "collapsed": true
   },
   "outputs": [],
   "source": [
    "#save_1 = float(percentage[6].split('>')[-1])\n",
    "#save_2 = float(percentage[7].split('>')[-1]) "
   ]
  },
  {
   "cell_type": "markdown",
   "metadata": {},
   "source": [
    "## Scrape datasets"
   ]
  },
  {
   "cell_type": "code",
   "execution_count": 3,
   "metadata": {
    "collapsed": true,
    "tags": []
   },
   "outputs": [],
   "source": [
    "def get_df(url, league, season):\n",
    "    '''\n",
    "    Description: This function goes to de URL of the match and treat all data in order to append it in one single Dataframe.\n",
    "    \n",
    "    Input:\n",
    "        - urls: urls of all the match reports\n",
    "        - league: league\n",
    "        - season: season\n",
    "    Output:\n",
    "        - Dataframe treated from the match saved on my machine excel file\n",
    "    \n",
    "    '''\n",
    "    df_all= pd.DataFrame()\n",
    "    #ind = 0\n",
    "    # make the request\n",
    "    pg = 'https://fbref.com'\n",
    "    url_pg = pg+ url\n",
    "    req = requests.get(url_pg)\n",
    "    if req.status_code == 200:\n",
    "        content = req.content\n",
    "    # accessing data from site\n",
    "    soup = BeautifulSoup(content, 'html.parser')\n",
    "\n",
    "\n",
    "    table_geral = soup.find_all(class_ = \"table_wrapper tabbed\")\n",
    "    table_1 = table_geral[0]\n",
    "    table_2 = table_geral[1]\n",
    "    table_3 = soup.find(class_='venuetime')\n",
    "\n",
    "\n",
    "    # possession\n",
    "    percentage = str(soup.find_all('strong')).split('%')\n",
    "    possession_1 = int(percentage[0][-2:])\n",
    "    possession_2 = int(percentage[1][-2:])\n",
    "\n",
    "    # save percentage\n",
    "    save = str(soup.find_all('td')).split(\"save_pct\")\n",
    "    save1 = save[1].split('>')[1].split('<')[0]\n",
    "    save2 = save[2].split('>')[1].split('<')[0]\n",
    "    save_1 = float(save1) if save1 != '' else 0\n",
    "    save_2 = float(save2) if save2 != '' else 0\n",
    "\n",
    "\n",
    "\n",
    "    #collecting data\n",
    "    date = table_3.get('data-venue-date')        \n",
    "\n",
    "\n",
    "    #treating data\n",
    "    match = str(soup.title)\n",
    "    match = match.replace(\" \",\"_\")\n",
    "    match = match.replace(\"<title>\",\"\")\n",
    "    match = match.replace(\".\",\"\")\n",
    "    match_final = match.split(\"Report\")[0]\n",
    "\n",
    "\n",
    "    #treating data\n",
    "    match_final = match_final.split(\"_Match\")\n",
    "    match_final = match_final[0]    \n",
    "\n",
    "\n",
    "    # STR transform and reading tables\n",
    "    table_str_1 = str(table_1)\n",
    "    table_str_2 = str(table_2)\n",
    "    df_1 = pd.read_html(table_str_1)[0]\n",
    "    df_2 = pd.read_html(table_str_2)[0]\n",
    "\n",
    "    #treating data\n",
    "    team = str(match_final)\n",
    "    team = team.replace(\"_\",\" \")\n",
    "    team = team.split(\" vs \")\n",
    "    team_1 = str(team[0])\n",
    "    team_2 = str(team[1])\n",
    "\n",
    "\n",
    "    #Dtframe transforming\n",
    "    df_1 = pd.DataFrame(df_1).tail(1)      #use only the summary row\n",
    "    df_1.columns = df_1.columns.droplevel()\n",
    "    df_1['League'] = league\n",
    "    df_1['Season'] = season\n",
    "    df_1['Team'] = str(team_1)\n",
    "    df_1['Home or Away'] = 'Home'\n",
    "    df_1['Match'] = str(match_final)\n",
    "    df_1['Date'] = str(date)\n",
    "    df_1['Possession'] = possession_1\n",
    "    df_1['Save%'] = save_1\n",
    "\n",
    "\n",
    "    df_2 = pd.DataFrame(df_2).tail(1)      #use only the summary row\n",
    "    df_2.columns = df_2.columns.droplevel()\n",
    "    df_2['League'] = league\n",
    "    df_2['Season'] = season\n",
    "    df_2['Team'] = str(team_2)\n",
    "    df_2['Home or Away'] = 'Away'\n",
    "    df_2['Match'] = str(match_final)\n",
    "    df_2['Date'] = str(date)\n",
    "    df_2['Possession'] = possession_2\n",
    "    df_2['Save%'] = save_2\n",
    "\n",
    "\n",
    "    df_all = df_all.append(df_1).append(df_2)\n",
    "    \n",
    "    #write to csv files\n",
    "    if not os.path.exists(league + season + '.csv'):\n",
    "        df_all.to_csv(league + season + '.csv',index=False)\n",
    "    else:\n",
    "        df_all.to_csv(league + season + '.csv',mode='a+', index=False, header=False)"
   ]
  },
  {
   "cell_type": "markdown",
   "metadata": {},
   "source": [
    "sometimes the scraper might interrupt, probably due to the webpage is updating"
   ]
  },
  {
   "cell_type": "markdown",
   "metadata": {},
   "source": [
    "In each section below, there are two cells scraping the same data, the first one is usual one, the second is using multi-processing."
   ]
  },
  {
   "cell_type": "markdown",
   "metadata": {},
   "source": [
    "#### 1. English Premier League(EPL) 2020-2021"
   ]
  },
  {
   "cell_type": "code",
   "execution_count": 32,
   "metadata": {
    "tags": []
   },
   "outputs": [
    {
     "name": "stdout",
     "output_type": "stream",
     "text": [
      "scraped 50 matches\n",
      "scraped 100 matches\n",
      "scraped 150 matches\n",
      "scraped 200 matches\n",
      "scraped 250 matches\n",
      "scraped 300 matches\n",
      "Time for scraping: 594.9537224769592 seconds\n"
     ]
    }
   ],
   "source": [
    "start = time.time()\n",
    "\n",
    "urls = scoresfixtures(\"https://fbref.com/en/comps/9/schedule/Premier-League-Scores-and-Fixtures\", \"div_sched_10728_1\")\n",
    "get_df(urls, league = 'EPL', season = '2020-2021')\n",
    "    \n",
    "print('Time for scraping: {} seconds'.format(time.time() - start))"
   ]
  },
  {
   "cell_type": "code",
   "execution_count": 9,
   "metadata": {},
   "outputs": [
    {
     "name": "stdout",
     "output_type": "stream",
     "text": [
      "Time for scraping: 229.59193205833435 seconds\n"
     ]
    }
   ],
   "source": [
    "start = time.time()\n",
    "\n",
    "urls = scoresfixtures(\"https://fbref.com/en/comps/9/schedule/Premier-League-Scores-and-Fixtures\", \"div_sched_10728_1\")\n",
    "get_df_new = partial(get_df, league = 'EPL', season = '2020-2021')\n",
    "pool=Pool(8)\n",
    "pool.map(get_df_new, urls)\n",
    "pool.close()\n",
    "pool.join()\n",
    "\n",
    "print('Time for scraping: {} seconds'.format(time.time() - start))"
   ]
  },
  {
   "cell_type": "markdown",
   "metadata": {},
   "source": [
    "#### 2. EPL 2019-2020"
   ]
  },
  {
   "cell_type": "code",
   "execution_count": 14,
   "metadata": {},
   "outputs": [
    {
     "name": "stdout",
     "output_type": "stream",
     "text": [
      "scraped 50 matches\n",
      "scraped 100 matches\n",
      "scraped 150 matches\n",
      "scraped 200 matches\n",
      "scraped 250 matches\n",
      "scraped 300 matches\n",
      "scraped 350 matches\n",
      "Time for scriping: 707.4274218082428 seconds\n"
     ]
    }
   ],
   "source": [
    "start = time.time()\n",
    "\n",
    "urls = scoresfixtures(\"https://fbref.com/en/comps/9/3232/schedule/2019-2020-Premier-League-Scores-and-Fixtures\", \"div_sched_3232_1\")\n",
    "get_df(urls, league = 'EPL', season = '2019-2020')  \n",
    "    \n",
    "print('Time for scriping: {} seconds'.format(time.time() - start))"
   ]
  },
  {
   "cell_type": "code",
   "execution_count": null,
   "metadata": {
    "collapsed": true
   },
   "outputs": [],
   "source": [
    "start = time.time()\n",
    "\n",
    "urls = scoresfixtures(\"https://fbref.com/en/comps/9/3232/schedule/2019-2020-Premier-League-Scores-and-Fixtures\", \"div_sched_3232_1\")\n",
    "get_df_new = partial(get_df, league = 'EPL', season = '2019-2020')\n",
    "pool=Pool(8)\n",
    "pool.map(get_df_new, urls)\n",
    "pool.close()\n",
    "pool.join()\n",
    "\n",
    "print('Time for scraping: {} seconds'.format(time.time() - start))"
   ]
  },
  {
   "cell_type": "markdown",
   "metadata": {},
   "source": [
    "#### 3. EPL 2018-2019"
   ]
  },
  {
   "cell_type": "code",
   "execution_count": 16,
   "metadata": {},
   "outputs": [
    {
     "name": "stdout",
     "output_type": "stream",
     "text": [
      "scraped 50 matches\n",
      "scraped 100 matches\n",
      "scraped 150 matches\n",
      "scraped 200 matches\n",
      "scraped 250 matches\n",
      "scraped 300 matches\n",
      "scraped 350 matches\n",
      "Time for scriping: 507.9384958744049 seconds\n"
     ]
    }
   ],
   "source": [
    "start = time.time()\n",
    "\n",
    "urls = scoresfixtures(\"https://fbref.com/en/comps/9/1889/schedule/2018-2019-Premier-League-Scores-and-Fixtures\", \"div_sched_1889_1\")\n",
    "get_df(urls, league = 'EPL', season = '2018-2019')\n",
    "    \n",
    "\n",
    "print('Time for scriping: {} seconds'.format(time.time() - start))"
   ]
  },
  {
   "cell_type": "code",
   "execution_count": null,
   "metadata": {
    "collapsed": true
   },
   "outputs": [],
   "source": [
    "start = time.time()\n",
    "\n",
    "urls = scoresfixtures(\"https://fbref.com/en/comps/9/1889/schedule/2018-2019-Premier-League-Scores-and-Fixtures\", \"div_sched_1889_1\")\n",
    "get_df_new = partial(get_df, league = 'EPL', season = '2018-2019')\n",
    "pool=Pool(8)\n",
    "pool.map(get_df_new, urls)\n",
    "pool.close()\n",
    "pool.join()\n",
    "\n",
    "print('Time for scraping: {} seconds'.format(time.time() - start))"
   ]
  },
  {
   "cell_type": "markdown",
   "metadata": {},
   "source": [
    "#### 4. Spanish LaLiga 2020-2021"
   ]
  },
  {
   "cell_type": "code",
   "execution_count": 40,
   "metadata": {},
   "outputs": [
    {
     "name": "stdout",
     "output_type": "stream",
     "text": [
      "scraped 50 matches\n",
      "scraped 100 matches\n",
      "scraped 150 matches\n",
      "scraped 200 matches\n",
      "scraped 250 matches\n",
      "scraped 300 matches\n",
      "Time for scriping: 347.338219165802 seconds\n"
     ]
    }
   ],
   "source": [
    "start = time.time()\n",
    "\n",
    "urls = scoresfixtures(\"https://fbref.com/en/comps/12/schedule/La-Liga-Scores-and-Fixtures\", \"div_sched_10731_1\")[:335]\n",
    "get_df(urls, league = 'LaLiga ', season = '2020-2021')\n",
    "    \n",
    "\n",
    "print('Time for scriping: {} seconds'.format(time.time() - start))"
   ]
  },
  {
   "cell_type": "code",
   "execution_count": null,
   "metadata": {
    "collapsed": true
   },
   "outputs": [],
   "source": [
    "start = time.time()\n",
    "\n",
    "urls = scoresfixtures(\"https://fbref.com/en/comps/12/schedule/La-Liga-Scores-and-Fixtures\", \"div_sched_10731_1\")[:335]\n",
    "get_df_new = partial(get_df, league = 'LaLiga ', season = '2020-2021')\n",
    "pool=Pool(8)\n",
    "pool.map(get_df_new, urls)\n",
    "pool.close()\n",
    "pool.join()\n",
    "\n",
    "print('Time for scraping: {} seconds'.format(time.time() - start))"
   ]
  },
  {
   "cell_type": "markdown",
   "metadata": {},
   "source": [
    "#### 5. LaLiga 2019-2020"
   ]
  },
  {
   "cell_type": "code",
   "execution_count": 10,
   "metadata": {},
   "outputs": [
    {
     "name": "stdout",
     "output_type": "stream",
     "text": [
      "scraped 50 matches\n",
      "scraped 100 matches\n",
      "scraped 150 matches\n",
      "scraped 200 matches\n",
      "scraped 250 matches\n",
      "scraped 300 matches\n",
      "scraped 350 matches\n",
      "Time for scriping: 634.6203856468201 seconds\n"
     ]
    }
   ],
   "source": [
    "start = time.time()\n",
    "\n",
    "urls = scoresfixtures(\"https://fbref.com/en/comps/12/3239/schedule/2019-2020-La-Liga-Scores-and-Fixtures\", \"div_sched_3239_1\")\n",
    "get_df(urls, league = 'LaLiga ', season = '2019-2020')\n",
    "    \n",
    "\n",
    "print('Time for scriping: {} seconds'.format(time.time() - start))"
   ]
  },
  {
   "cell_type": "code",
   "execution_count": null,
   "metadata": {
    "collapsed": true
   },
   "outputs": [],
   "source": [
    "start = time.time()\n",
    "\n",
    "urls = scoresfixtures(\"https://fbref.com/en/comps/12/3239/schedule/2019-2020-La-Liga-Scores-and-Fixtures\", \"div_sched_3239_1\")\n",
    "get_df_new = partial(get_df, league = 'LaLiga ', season = '2019-2020')\n",
    "pool=Pool(8)\n",
    "pool.map(get_df_new, urls)\n",
    "pool.close()\n",
    "pool.join()\n",
    "\n",
    "print('Time for scraping: {} seconds'.format(time.time() - start))"
   ]
  },
  {
   "cell_type": "markdown",
   "metadata": {},
   "source": [
    "#### 6. LaLiga 2018-2019"
   ]
  },
  {
   "cell_type": "code",
   "execution_count": 11,
   "metadata": {},
   "outputs": [
    {
     "name": "stdout",
     "output_type": "stream",
     "text": [
      "scraped 50 matches\n",
      "scraped 100 matches\n",
      "scraped 150 matches\n",
      "scraped 200 matches\n",
      "scraped 250 matches\n",
      "scraped 300 matches\n",
      "scraped 350 matches\n",
      "Time for scriping: 727.3283274173737 seconds\n"
     ]
    }
   ],
   "source": [
    "start = time.time()\n",
    "\n",
    "urls = scoresfixtures(\"https://fbref.com/en/comps/12/1886/schedule/2018-2019-La-Liga-Scores-and-Fixtures\", \"div_sched_1886_1\")\n",
    "get_df(urls, league = 'LaLiga ', season = '2018-2019')\n",
    "    \n",
    "\n",
    "print('Time for scriping: {} seconds'.format(time.time() - start))"
   ]
  },
  {
   "cell_type": "code",
   "execution_count": null,
   "metadata": {
    "collapsed": true
   },
   "outputs": [],
   "source": [
    "start = time.time()\n",
    "\n",
    "urls = scoresfixtures(\"https://fbref.com/en/comps/12/1886/schedule/2018-2019-La-Liga-Scores-and-Fixtures\", \"div_sched_1886_1\")\n",
    "get_df_new = partial(get_df, league = 'LaLiga ', season = '2018-2019')\n",
    "pool=Pool(8)\n",
    "pool.map(get_df_new, urls)\n",
    "pool.close()\n",
    "pool.join()\n",
    "\n",
    "print('Time for scraping: {} seconds'.format(time.time() - start))"
   ]
  },
  {
   "cell_type": "markdown",
   "metadata": {},
   "source": [
    "#### 7. Italian Serie A 2020-2021"
   ]
  },
  {
   "cell_type": "code",
   "execution_count": 45,
   "metadata": {},
   "outputs": [
    {
     "name": "stdout",
     "output_type": "stream",
     "text": [
      "scraped 50 matches\n",
      "scraped 100 matches\n",
      "scraped 150 matches\n",
      "scraped 200 matches\n",
      "scraped 250 matches\n",
      "scraped 300 matches\n",
      "Time for scriping: 697.5135340690613 seconds\n"
     ]
    }
   ],
   "source": [
    "start = time.time()\n",
    "\n",
    "urls = scoresfixtures(\"https://fbref.com/en/comps/11/schedule/Serie-A-Scores-and-Fixtures\", \"div_sched_10730_1\")\n",
    "get_df(urls, league = 'Serie A ', season = '2020-2021')\n",
    "    \n",
    "\n",
    "print('Time for scriping: {} seconds'.format(time.time() - start))"
   ]
  },
  {
   "cell_type": "code",
   "execution_count": null,
   "metadata": {
    "collapsed": true
   },
   "outputs": [],
   "source": [
    "start = time.time()\n",
    "\n",
    "urls = scoresfixtures(\"https://fbref.com/en/comps/11/schedule/Serie-A-Scores-and-Fixtures\", \"div_sched_10730_1\")\n",
    "get_df_new = partial(get_df,league = 'Serie A ', season = '2020-2021')\n",
    "pool=Pool(8)\n",
    "pool.map(get_df_new, urls)\n",
    "pool.close()\n",
    "pool.join()\n",
    "\n",
    "print('Time for scraping: {} seconds'.format(time.time() - start))"
   ]
  },
  {
   "cell_type": "markdown",
   "metadata": {},
   "source": [
    "#### 8. Serie A 2019-2020"
   ]
  },
  {
   "cell_type": "code",
   "execution_count": 12,
   "metadata": {},
   "outputs": [
    {
     "name": "stdout",
     "output_type": "stream",
     "text": [
      "scraped 50 matches\n",
      "scraped 100 matches\n",
      "scraped 150 matches\n",
      "scraped 200 matches\n",
      "scraped 250 matches\n",
      "scraped 300 matches\n",
      "scraped 350 matches\n",
      "Time for scriping: 726.3007817268372 seconds\n"
     ]
    }
   ],
   "source": [
    "start = time.time()\n",
    "\n",
    "urls = scoresfixtures(\"https://fbref.com/en/comps/11/3260/schedule/2019-2020-Serie-A-Scores-and-Fixtures\", \"div_sched_3260_1\")\n",
    "get_df(urls, league = 'Serie A ', season = '2019-2020')\n",
    "    \n",
    "\n",
    "print('Time for scriping: {} seconds'.format(time.time() - start))"
   ]
  },
  {
   "cell_type": "code",
   "execution_count": null,
   "metadata": {
    "collapsed": true
   },
   "outputs": [],
   "source": [
    "start = time.time()\n",
    "\n",
    "urls = scoresfixtures(\"https://fbref.com/en/comps/11/3260/schedule/2019-2020-Serie-A-Scores-and-Fixtures\", \"div_sched_3260_1\")\n",
    "get_df_new = partial(get_df, league = 'Serie A ', season = '2019-2020')\n",
    "pool=Pool(8)\n",
    "pool.map(get_df_new, urls)\n",
    "pool.close()\n",
    "pool.join()\n",
    "\n",
    "print('Time for scraping: {} seconds'.format(time.time() - start))"
   ]
  },
  {
   "cell_type": "markdown",
   "metadata": {},
   "source": [
    "#### 9. Serie A 2018-2019"
   ]
  },
  {
   "cell_type": "code",
   "execution_count": 13,
   "metadata": {},
   "outputs": [
    {
     "name": "stdout",
     "output_type": "stream",
     "text": [
      "scraped 50 matches\n",
      "scraped 100 matches\n",
      "scraped 150 matches\n",
      "scraped 200 matches\n",
      "scraped 250 matches\n",
      "scraped 300 matches\n",
      "scraped 350 matches\n",
      "Time for scriping: 713.4366507530212 seconds\n"
     ]
    }
   ],
   "source": [
    "start = time.time()\n",
    "\n",
    "urls = scoresfixtures(\"https://fbref.com/en/comps/11/1896/schedule/2018-2019-Serie-A-Scores-and-Fixtures\", \"div_sched_1896_1\")\n",
    "get_df(urls, league = 'Serie A ', season = '2018-2019')\n",
    "    \n",
    "\n",
    "print('Time for scriping: {} seconds'.format(time.time() - start))"
   ]
  },
  {
   "cell_type": "code",
   "execution_count": null,
   "metadata": {
    "collapsed": true
   },
   "outputs": [],
   "source": [
    "start = time.time()\n",
    "\n",
    "urls = scoresfixtures(\"https://fbref.com/en/comps/11/1896/schedule/2018-2019-Serie-A-Scores-and-Fixtures\", \"div_sched_1896_1\")\n",
    "get_df_new = partial(get_df, league = 'Serie A ', season = '2018-2019')\n",
    "pool=Pool(8)\n",
    "pool.map(get_df_new, urls)\n",
    "pool.close()\n",
    "pool.join()\n",
    "\n",
    "print('Time for scraping: {} seconds'.format(time.time() - start))"
   ]
  },
  {
   "cell_type": "markdown",
   "metadata": {},
   "source": [
    "#### 10. Germany Bundesliga 2020-2021"
   ]
  },
  {
   "cell_type": "code",
   "execution_count": 55,
   "metadata": {},
   "outputs": [
    {
     "name": "stdout",
     "output_type": "stream",
     "text": [
      "scraped 50 matches\n",
      "scraped 100 matches\n",
      "scraped 150 matches\n",
      "scraped 200 matches\n",
      "scraped 250 matches\n",
      "Time for scriping: 545.3423707485199 seconds\n"
     ]
    }
   ],
   "source": [
    "start = time.time()\n",
    "\n",
    "urls = scoresfixtures(\"https://fbref.com/en/comps/20/schedule/Bundesliga-Scores-and-Fixtures\", \"div_sched_10737_1\")\n",
    "get_df(urls, league = 'Bundesliga ', season = '2020-2021')\n",
    "    \n",
    "\n",
    "print('Time for scriping: {} seconds'.format(time.time() - start))\n"
   ]
  },
  {
   "cell_type": "code",
   "execution_count": null,
   "metadata": {
    "collapsed": true
   },
   "outputs": [],
   "source": [
    "start = time.time()\n",
    "\n",
    "urls = scoresfixtures(\"https://fbref.com/en/comps/20/schedule/Bundesliga-Scores-and-Fixtures\", \"div_sched_10737_1\")\n",
    "get_df_new = partial(get_df, league = 'Bundesliga ', season = '2020-2021')\n",
    "pool=Pool(8)\n",
    "pool.map(get_df_new, urls)\n",
    "pool.close()\n",
    "pool.join()\n",
    "\n",
    "print('Time for scraping: {} seconds'.format(time.time() - start))"
   ]
  },
  {
   "cell_type": "markdown",
   "metadata": {},
   "source": [
    "#### 11. Bundesliga 2019-2020"
   ]
  },
  {
   "cell_type": "code",
   "execution_count": 14,
   "metadata": {},
   "outputs": [
    {
     "name": "stdout",
     "output_type": "stream",
     "text": [
      "scraped 50 matches\n",
      "scraped 100 matches\n",
      "scraped 150 matches\n",
      "scraped 200 matches\n",
      "scraped 250 matches\n",
      "scraped 300 matches\n",
      "Time for scriping: 586.717095375061 seconds\n"
     ]
    }
   ],
   "source": [
    "start = time.time()\n",
    "\n",
    "urls = scoresfixtures(\"https://fbref.com/en/comps/20/3248/schedule/2019-2020-Bundesliga-Scores-and-Fixtures\", \"div_sched_3248_1\")\n",
    "get_df(urls, league = 'Bundesliga ', season = '2019-2020')\n",
    "    \n",
    "\n",
    "print('Time for scriping: {} seconds'.format(time.time() - start))"
   ]
  },
  {
   "cell_type": "code",
   "execution_count": null,
   "metadata": {
    "collapsed": true
   },
   "outputs": [],
   "source": [
    "start = time.time()\n",
    "\n",
    "urls = scoresfixtures(\"https://fbref.com/en/comps/20/3248/schedule/2019-2020-Bundesliga-Scores-and-Fixtures\", \"div_sched_3248_1\")\n",
    "get_df_new = partial(get_df, 'Bundesliga ', season = '2019-2020')\n",
    "pool=Pool(8)\n",
    "pool.map(get_df_new, urls)\n",
    "pool.close()\n",
    "pool.join()\n",
    "\n",
    "print('Time for scraping: {} seconds'.format(time.time() - start))"
   ]
  },
  {
   "cell_type": "markdown",
   "metadata": {},
   "source": [
    "#### 12. Bundesliga 2018-2019"
   ]
  },
  {
   "cell_type": "code",
   "execution_count": 15,
   "metadata": {},
   "outputs": [
    {
     "name": "stdout",
     "output_type": "stream",
     "text": [
      "scraped 50 matches\n",
      "scraped 100 matches\n",
      "scraped 150 matches\n",
      "scraped 200 matches\n",
      "scraped 250 matches\n",
      "scraped 300 matches\n",
      "Time for scriping: 570.7660129070282 seconds\n"
     ]
    }
   ],
   "source": [
    "start = time.time()\n",
    "\n",
    "urls = scoresfixtures(\"https://fbref.com/en/comps/20/2109/schedule/2018-2019-Bundesliga-Scores-and-Fixtures\", \"div_sched_2109_1\")\n",
    "get_df(urls, league = 'Bundesliga ', season = '2018-2019')\n",
    "    \n",
    "\n",
    "print('Time for scriping: {} seconds'.format(time.time() - start))"
   ]
  },
  {
   "cell_type": "code",
   "execution_count": null,
   "metadata": {
    "collapsed": true
   },
   "outputs": [],
   "source": [
    "start = time.time()\n",
    "\n",
    "urls = scoresfixtures(\"https://fbref.com/en/comps/20/2109/schedule/2018-2019-Bundesliga-Scores-and-Fixtures\", \"div_sched_2109_1\")\n",
    "get_df_new = partial(get_df, league = 'Bundesliga ', season = '2018-2019')\n",
    "pool=Pool(8)\n",
    "pool.map(get_df_new, urls)\n",
    "pool.close()\n",
    "pool.join()\n",
    "\n",
    "print('Time for scraping: {} seconds'.format(time.time() - start))"
   ]
  },
  {
   "cell_type": "markdown",
   "metadata": {},
   "source": [
    "#### 13. France Ligue 1 2020-2021"
   ]
  },
  {
   "cell_type": "code",
   "execution_count": 59,
   "metadata": {},
   "outputs": [
    {
     "name": "stdout",
     "output_type": "stream",
     "text": [
      "scraped 50 matches\n",
      "scraped 100 matches\n",
      "scraped 150 matches\n",
      "scraped 200 matches\n",
      "scraped 250 matches\n",
      "scraped 300 matches\n",
      "scraped 350 matches\n",
      "Time for scriping: 741.0207390785217 seconds\n"
     ]
    }
   ],
   "source": [
    "start = time.time()\n",
    "\n",
    "urls = scoresfixtures(\"https://fbref.com/en/comps/13/schedule/Ligue-1-Scores-and-Fixtures\", \"div_sched_10732_1\")\n",
    "get_df(urls, league = 'Ligue 1 ', season = '2020-2021')\n",
    "    \n",
    "\n",
    "print('Time for scriping: {} seconds'.format(time.time() - start))\n"
   ]
  },
  {
   "cell_type": "code",
   "execution_count": null,
   "metadata": {
    "collapsed": true
   },
   "outputs": [],
   "source": [
    "start = time.time()\n",
    "\n",
    "urls = scoresfixtures(\"https://fbref.com/en/comps/13/schedule/Ligue-1-Scores-and-Fixtures\", \"div_sched_10732_1\")\n",
    "get_df_new = partial(get_df, league = 'Ligue 1 ', season = '2020-2021')\n",
    "pool=Pool(8)\n",
    "pool.map(get_df_new, urls)\n",
    "pool.close()\n",
    "pool.join()\n",
    "\n",
    "print('Time for scraping: {} seconds'.format(time.time() - start))"
   ]
  },
  {
   "cell_type": "markdown",
   "metadata": {},
   "source": [
    "#### 14. Ligue 1 2019-2020"
   ]
  },
  {
   "cell_type": "code",
   "execution_count": 38,
   "metadata": {},
   "outputs": [
    {
     "name": "stdout",
     "output_type": "stream",
     "text": [
      "Time for scriping: 8.902738571166992 seconds\n"
     ]
    }
   ],
   "source": [
    "start = time.time()\n",
    "\n",
    "urls = scoresfixtures(\"https://fbref.com/en/comps/13/3243/schedule/2019-2020-Ligue-1-Scores-and-Fixtures\", \"div_sched_3243_1\")[:279]\n",
    "get_df(urls, league = 'Ligue 1 ', season = '2019-2020')\n",
    "    \n",
    "\n",
    "print('Time for scriping: {} seconds'.format(time.time() - start))\n"
   ]
  },
  {
   "cell_type": "code",
   "execution_count": null,
   "metadata": {
    "collapsed": true
   },
   "outputs": [],
   "source": [
    "start = time.time()\n",
    "\n",
    "urls = scoresfixtures(\"https://fbref.com/en/comps/13/3243/schedule/2019-2020-Ligue-1-Scores-and-Fixtures\", \"div_sched_3243_1\")[:279]\n",
    "get_df_new = partial(get_df, league = 'Ligue 1 ', season = '2019-2020')\n",
    "pool=Pool(8)\n",
    "pool.map(get_df_new, urls)\n",
    "pool.close()\n",
    "pool.join()\n",
    "\n",
    "print('Time for scraping: {} seconds'.format(time.time() - start))"
   ]
  },
  {
   "cell_type": "markdown",
   "metadata": {},
   "source": [
    "#### 15. Ligue 1 2018-2019"
   ]
  },
  {
   "cell_type": "code",
   "execution_count": 17,
   "metadata": {},
   "outputs": [
    {
     "name": "stdout",
     "output_type": "stream",
     "text": [
      "scraped 50 matches\n",
      "scraped 100 matches\n",
      "scraped 150 matches\n",
      "scraped 200 matches\n",
      "scraped 250 matches\n",
      "scraped 300 matches\n",
      "scraped 350 matches\n",
      "Time for scriping: 705.0203380584717 seconds\n"
     ]
    }
   ],
   "source": [
    "start = time.time()\n",
    "\n",
    "urls = scoresfixtures(\"https://fbref.com/en/comps/13/2104/schedule/2018-2019-Ligue-1-Scores-and-Fixtures\", \"div_sched_2104_1\")\n",
    "get_df(urls, league = 'Ligue 1 ', season = '2018-2019')\n",
    "    \n",
    "\n",
    "print('Time for scriping: {} seconds'.format(time.time() - start))\n"
   ]
  },
  {
   "cell_type": "code",
   "execution_count": null,
   "metadata": {
    "collapsed": true
   },
   "outputs": [],
   "source": [
    "start = time.time()\n",
    "\n",
    "urls = scoresfixtures(\"https://fbref.com/en/comps/13/2104/schedule/2018-2019-Ligue-1-Scores-and-Fixtures\", \"div_sched_2104_1\")\n",
    "get_df_new = partial(get_df, league = 'Ligue 1 ', season = '2018-2019')\n",
    "pool=Pool(8)\n",
    "pool.map(get_df_new, urls)\n",
    "pool.close()\n",
    "pool.join()\n",
    "\n",
    "print('Time for scraping: {} seconds'.format(time.time() - start))"
   ]
  },
  {
   "cell_type": "markdown",
   "metadata": {},
   "source": [
    "## Extra 2016-2018 data for supplement"
   ]
  },
  {
   "cell_type": "markdown",
   "metadata": {},
   "source": [
    "#### 1. EPL 2017-2018"
   ]
  },
  {
   "cell_type": "code",
   "execution_count": null,
   "metadata": {
    "collapsed": true
   },
   "outputs": [],
   "source": [
    "start = time.time()\n",
    "\n",
    "urls = scoresfixtures(\"https://fbref.com/en/comps/9/1631/schedule/2017-2018-Premier-League-Scores-and-Fixtures\", \"div_sched_1631_1\")\n",
    "get_df(urls, league = 'EPL', season = '2017-2018')\n",
    "    \n",
    "print('Time for scraping: {} seconds'.format(time.time() - start))"
   ]
  },
  {
   "cell_type": "code",
   "execution_count": 6,
   "metadata": {},
   "outputs": [
    {
     "name": "stdout",
     "output_type": "stream",
     "text": [
      "Time for scraping: 242.00849509239197 seconds\n"
     ]
    }
   ],
   "source": [
    "start = time.time()\n",
    "\n",
    "urls = scoresfixtures(\"https://fbref.com/en/comps/9/1631/schedule/2017-2018-Premier-League-Scores-and-Fixtures\", \"div_sched_1631_1\")\n",
    "get_df_new = partial(get_df, league = 'EPL', season = '2017-2018')\n",
    "pool=Pool(8)\n",
    "pool.map(get_df_new, urls)\n",
    "pool.close()\n",
    "pool.join()\n",
    "\n",
    "print('Time for scraping: {} seconds'.format(time.time() - start))"
   ]
  },
  {
   "cell_type": "markdown",
   "metadata": {},
   "source": [
    "####  2. LaLiga 2017-2018"
   ]
  },
  {
   "cell_type": "code",
   "execution_count": 19,
   "metadata": {},
   "outputs": [
    {
     "name": "stdout",
     "output_type": "stream",
     "text": [
      "scraped 50 matches\n",
      "scraped 100 matches\n",
      "scraped 150 matches\n",
      "scraped 200 matches\n",
      "scraped 250 matches\n",
      "scraped 300 matches\n",
      "scraped 350 matches\n",
      "Time for scraping: 710.4342136383057 seconds\n"
     ]
    }
   ],
   "source": [
    "start = time.time()\n",
    "\n",
    "urls = scoresfixtures(\"https://fbref.com/en/comps/12/1652/schedule/2017-2018-La-Liga-Scores-and-Fixtures\", \"div_sched_1652_1\")\n",
    "get_df(urls, league = 'LaLiga ', season = '2017-2018')\n",
    "    \n",
    "print('Time for scraping: {} seconds'.format(time.time() - start))"
   ]
  },
  {
   "cell_type": "code",
   "execution_count": 7,
   "metadata": {},
   "outputs": [
    {
     "name": "stdout",
     "output_type": "stream",
     "text": [
      "Time for scraping: 275.07933497428894 seconds\n"
     ]
    }
   ],
   "source": [
    "start = time.time()\n",
    "\n",
    "urls = scoresfixtures(\"https://fbref.com/en/comps/12/1652/schedule/2017-2018-La-Liga-Scores-and-Fixtures\", \"div_sched_1652_1\")\n",
    "get_df_new = partial(get_df, league = 'LaLiga ', season = '2017-2018')\n",
    "pool=Pool(8)\n",
    "pool.map(get_df_new, urls)\n",
    "pool.close()\n",
    "pool.join()\n",
    "\n",
    "print('Time for scraping: {} seconds'.format(time.time() - start))"
   ]
  },
  {
   "cell_type": "markdown",
   "metadata": {},
   "source": [
    "####  3. Serie A 2017-2018"
   ]
  },
  {
   "cell_type": "code",
   "execution_count": 20,
   "metadata": {},
   "outputs": [
    {
     "name": "stdout",
     "output_type": "stream",
     "text": [
      "scraped 50 matches\n",
      "scraped 100 matches\n",
      "scraped 150 matches\n",
      "scraped 200 matches\n",
      "scraped 250 matches\n",
      "scraped 300 matches\n",
      "scraped 350 matches\n",
      "Time for scriping: 713.9229116439819 seconds\n"
     ]
    }
   ],
   "source": [
    "start = time.time()\n",
    "\n",
    "urls = scoresfixtures(\"https://fbref.com/en/comps/11/1640/schedule/2017-2018-Serie-A-Scores-and-Fixtures\", \"div_sched_1640_1\")\n",
    "get_df(urls, league = 'Serie A ', season = '2017-2018')\n",
    "    \n",
    "\n",
    "print('Time for scriping: {} seconds'.format(time.time() - start))"
   ]
  },
  {
   "cell_type": "code",
   "execution_count": 8,
   "metadata": {},
   "outputs": [
    {
     "name": "stdout",
     "output_type": "stream",
     "text": [
      "Time for scraping: 330.8611168861389 seconds\n"
     ]
    }
   ],
   "source": [
    "start = time.time()\n",
    "\n",
    "urls = scoresfixtures(\"https://fbref.com/en/comps/11/1640/schedule/2017-2018-Serie-A-Scores-and-Fixtures\", \"div_sched_1640_1\")\n",
    "get_df_new = partial(get_df, league = 'Serie A ', season = '2017-2018')\n",
    "pool=Pool(8)\n",
    "pool.map(get_df_new, urls)\n",
    "pool.close()\n",
    "pool.join()\n",
    "\n",
    "print('Time for scraping: {} seconds'.format(time.time() - start))"
   ]
  },
  {
   "cell_type": "markdown",
   "metadata": {},
   "source": [
    "####  4. Bundesliga 2017-2018"
   ]
  },
  {
   "cell_type": "code",
   "execution_count": 21,
   "metadata": {},
   "outputs": [
    {
     "name": "stdout",
     "output_type": "stream",
     "text": [
      "scraped 50 matches\n",
      "scraped 100 matches\n",
      "scraped 150 matches\n",
      "scraped 200 matches\n",
      "scraped 250 matches\n",
      "scraped 300 matches\n",
      "Time for scriping: 570.6511466503143 seconds\n"
     ]
    }
   ],
   "source": [
    "start = time.time()\n",
    "\n",
    "urls = scoresfixtures(\"https://fbref.com/en/comps/20/1634/schedule/2017-2018-Bundesliga-Scores-and-Fixtures\", \"div_sched_1634_1\")\n",
    "get_df(urls, league = 'Bundesliga ', season = '2017-2018')\n",
    "    \n",
    "\n",
    "print('Time for scriping: {} seconds'.format(time.time() - start))"
   ]
  },
  {
   "cell_type": "code",
   "execution_count": 21,
   "metadata": {},
   "outputs": [
    {
     "name": "stdout",
     "output_type": "stream",
     "text": [
      "scraped 50 matches\n",
      "scraped 100 matches\n",
      "scraped 150 matches\n",
      "scraped 200 matches\n",
      "scraped 250 matches\n",
      "scraped 300 matches\n",
      "Time for scriping: 570.6511466503143 seconds\n"
     ]
    }
   ],
   "source": [
    "start = time.time()\n",
    "\n",
    "urls = scoresfixtures(\"https://fbref.com/en/comps/20/1634/schedule/2017-2018-Bundesliga-Scores-and-Fixtures\", \"div_sched_1634_1\")\n",
    "get_df_new = partial(get_df, league = 'Bundesliga ', season = '2017-2018')\n",
    "pool=Pool(8)\n",
    "pool.map(get_df_new, urls)\n",
    "pool.close()\n",
    "pool.join()\n",
    "\n",
    "print('Time for scraping: {} seconds'.format(time.time() - start))"
   ]
  },
  {
   "cell_type": "markdown",
   "metadata": {},
   "source": [
    "####  5. Ligue 1 2017-2018"
   ]
  },
  {
   "cell_type": "code",
   "execution_count": 22,
   "metadata": {},
   "outputs": [
    {
     "name": "stdout",
     "output_type": "stream",
     "text": [
      "scraped 50 matches\n",
      "scraped 100 matches\n",
      "scraped 150 matches\n",
      "scraped 200 matches\n",
      "scraped 250 matches\n",
      "scraped 300 matches\n",
      "scraped 350 matches\n",
      "Time for scriping: 708.0039551258087 seconds\n"
     ]
    }
   ],
   "source": [
    "start = time.time()\n",
    "\n",
    "urls = scoresfixtures(\"https://fbref.com/en/comps/13/1632/schedule/2017-2018-Ligue-1-Scores-and-Fixtures\", \"div_sched_1632_1\")\n",
    "get_df(urls, league = 'Ligue 1 ', season = '2017-2018')\n",
    "    \n",
    "\n",
    "print('Time for scriping: {} seconds'.format(time.time() - start))"
   ]
  },
  {
   "cell_type": "code",
   "execution_count": 22,
   "metadata": {},
   "outputs": [
    {
     "name": "stdout",
     "output_type": "stream",
     "text": [
      "scraped 50 matches\n",
      "scraped 100 matches\n",
      "scraped 150 matches\n",
      "scraped 200 matches\n",
      "scraped 250 matches\n",
      "scraped 300 matches\n",
      "scraped 350 matches\n",
      "Time for scriping: 708.0039551258087 seconds\n"
     ]
    }
   ],
   "source": [
    "start = time.time()\n",
    "\n",
    "urls = scoresfixtures(\"https://fbref.com/en/comps/13/1632/schedule/2017-2018-Ligue-1-Scores-and-Fixtures\", \"div_sched_1632_1\")\n",
    "get_df_new = partial(get_df, league = 'Ligue 1 ', season = '2017-2018')\n",
    "pool=Pool(8)\n",
    "pool.map(get_df_new, urls)\n",
    "pool.close()\n",
    "pool.join()\n",
    "\n",
    "print('Time for scraping: {} seconds'.format(time.time() - start))"
   ]
  },
  {
   "cell_type": "markdown",
   "metadata": {},
   "source": [
    "####  6. EPL 2016-2017"
   ]
  },
  {
   "cell_type": "code",
   "execution_count": 23,
   "metadata": {},
   "outputs": [
    {
     "name": "stdout",
     "output_type": "stream",
     "text": [
      "scraped 50 matches\n",
      "scraped 100 matches\n",
      "scraped 150 matches\n",
      "scraped 200 matches\n",
      "scraped 250 matches\n",
      "scraped 300 matches\n",
      "scraped 350 matches\n",
      "Time for scraping: 312.6351389884949 seconds\n"
     ]
    }
   ],
   "source": [
    "start = time.time()\n",
    "\n",
    "urls = scoresfixtures(\"https://fbref.com/en/comps/9/1526/schedule/2016-2017-Premier-League-Scores-and-Fixtures\", \"div_sched_1526_1\")\n",
    "get_df(urls, league = 'EPL', season = '2016-2017')\n",
    "    \n",
    "print('Time for scraping: {} seconds'.format(time.time() - start))"
   ]
  },
  {
   "cell_type": "code",
   "execution_count": 23,
   "metadata": {},
   "outputs": [
    {
     "name": "stdout",
     "output_type": "stream",
     "text": [
      "scraped 50 matches\n",
      "scraped 100 matches\n",
      "scraped 150 matches\n",
      "scraped 200 matches\n",
      "scraped 250 matches\n",
      "scraped 300 matches\n",
      "scraped 350 matches\n",
      "Time for scraping: 312.6351389884949 seconds\n"
     ]
    }
   ],
   "source": [
    "start = time.time()\n",
    "\n",
    "urls = scoresfixtures(\"https://fbref.com/en/comps/9/1526/schedule/2016-2017-Premier-League-Scores-and-Fixtures\", \"div_sched_1526_1\")\n",
    "get_df_new = partial(get_df, league = 'EPL', season = '2016-2017')\n",
    "pool=Pool(8)\n",
    "pool.map(get_df_new, urls)\n",
    "pool.close()\n",
    "pool.join()\n",
    "\n",
    "print('Time for scraping: {} seconds'.format(time.time() - start))"
   ]
  },
  {
   "cell_type": "markdown",
   "metadata": {},
   "source": [
    "####  7. LaLiga 2016-2017"
   ]
  },
  {
   "cell_type": "code",
   "execution_count": 24,
   "metadata": {},
   "outputs": [
    {
     "name": "stdout",
     "output_type": "stream",
     "text": [
      "scraped 50 matches\n",
      "scraped 100 matches\n",
      "scraped 150 matches\n",
      "scraped 200 matches\n",
      "scraped 250 matches\n",
      "scraped 300 matches\n",
      "scraped 350 matches\n",
      "Time for scraping: 311.80960607528687 seconds\n"
     ]
    }
   ],
   "source": [
    "start = time.time()\n",
    "\n",
    "urls = scoresfixtures(\"https://fbref.com/en/comps/12/1547/schedule/2016-2017-La-Liga-Scores-and-Fixtures\", \"div_sched_1547_1\")\n",
    "get_df(urls, league = 'LaLiga ', season = '2016-2017')\n",
    "    \n",
    "print('Time for scraping: {} seconds'.format(time.time() - start))"
   ]
  },
  {
   "cell_type": "code",
   "execution_count": 24,
   "metadata": {},
   "outputs": [
    {
     "name": "stdout",
     "output_type": "stream",
     "text": [
      "scraped 50 matches\n",
      "scraped 100 matches\n",
      "scraped 150 matches\n",
      "scraped 200 matches\n",
      "scraped 250 matches\n",
      "scraped 300 matches\n",
      "scraped 350 matches\n",
      "Time for scraping: 311.80960607528687 seconds\n"
     ]
    }
   ],
   "source": [
    "start = time.time()\n",
    "\n",
    "urls = scoresfixtures(\"https://fbref.com/en/comps/12/1547/schedule/2016-2017-La-Liga-Scores-and-Fixtures\", \"div_sched_1547_1\")\n",
    "get_df_new = partial(get_df, league = 'LaLiga ', season = '2016-2017')\n",
    "pool=Pool(8)\n",
    "pool.map(get_df_new, urls)\n",
    "pool.close()\n",
    "pool.join()\n",
    "\n",
    "print('Time for scraping: {} seconds'.format(time.time() - start))"
   ]
  },
  {
   "cell_type": "markdown",
   "metadata": {},
   "source": [
    "####  8. Serie A 2016-2017"
   ]
  },
  {
   "cell_type": "code",
   "execution_count": 25,
   "metadata": {},
   "outputs": [
    {
     "name": "stdout",
     "output_type": "stream",
     "text": [
      "scraped 50 matches\n",
      "scraped 100 matches\n",
      "scraped 150 matches\n",
      "scraped 200 matches\n",
      "scraped 250 matches\n",
      "scraped 300 matches\n",
      "scraped 350 matches\n",
      "Time for scriping: 316.1644470691681 seconds\n"
     ]
    }
   ],
   "source": [
    "start = time.time()\n",
    "\n",
    "urls = scoresfixtures(\"https://fbref.com/en/comps/11/1535/schedule/2016-2017-Serie-A-Scores-and-Fixtures\", \"div_sched_1535_1\")\n",
    "get_df(urls, league = 'Serie A ', season = '2016-2017')\n",
    "    \n",
    "\n",
    "print('Time for scriping: {} seconds'.format(time.time() - start))"
   ]
  },
  {
   "cell_type": "code",
   "execution_count": 25,
   "metadata": {},
   "outputs": [
    {
     "name": "stdout",
     "output_type": "stream",
     "text": [
      "scraped 50 matches\n",
      "scraped 100 matches\n",
      "scraped 150 matches\n",
      "scraped 200 matches\n",
      "scraped 250 matches\n",
      "scraped 300 matches\n",
      "scraped 350 matches\n",
      "Time for scriping: 316.1644470691681 seconds\n"
     ]
    }
   ],
   "source": [
    "start = time.time()\n",
    "\n",
    "urls = scoresfixtures(\"https://fbref.com/en/comps/11/1535/schedule/2016-2017-Serie-A-Scores-and-Fixtures\", \"div_sched_1535_1\")\n",
    "get_df_new = partial(get_df, league = 'Serie A ', season = '2016-2017')\n",
    "pool=Pool(8)\n",
    "pool.map(get_df_new, urls)\n",
    "pool.close()\n",
    "pool.join()\n",
    "\n",
    "print('Time for scraping: {} seconds'.format(time.time() - start))"
   ]
  },
  {
   "cell_type": "markdown",
   "metadata": {},
   "source": [
    "####  9. Bundesliga 2016-2017"
   ]
  },
  {
   "cell_type": "code",
   "execution_count": 26,
   "metadata": {},
   "outputs": [
    {
     "name": "stdout",
     "output_type": "stream",
     "text": [
      "scraped 50 matches\n",
      "scraped 100 matches\n",
      "scraped 150 matches\n",
      "scraped 200 matches\n",
      "scraped 250 matches\n",
      "scraped 300 matches\n",
      "Time for scriping: 259.5699129104614 seconds\n"
     ]
    }
   ],
   "source": [
    "start = time.time()\n",
    "\n",
    "urls = scoresfixtures(\"https://fbref.com/en/comps/20/1529/schedule/2016-2017-Bundesliga-Scores-and-Fixtures\", \"div_sched_1529_1\")\n",
    "get_df(urls, league = 'Bundesliga ', season = '2016-2017')\n",
    "    \n",
    "\n",
    "print('Time for scriping: {} seconds'.format(time.time() - start))"
   ]
  },
  {
   "cell_type": "code",
   "execution_count": 26,
   "metadata": {},
   "outputs": [
    {
     "name": "stdout",
     "output_type": "stream",
     "text": [
      "scraped 50 matches\n",
      "scraped 100 matches\n",
      "scraped 150 matches\n",
      "scraped 200 matches\n",
      "scraped 250 matches\n",
      "scraped 300 matches\n",
      "Time for scriping: 259.5699129104614 seconds\n"
     ]
    }
   ],
   "source": [
    "start = time.time()\n",
    "\n",
    "urls = scoresfixtures(\"https://fbref.com/en/comps/20/1529/schedule/2016-2017-Bundesliga-Scores-and-Fixtures\", \"div_sched_1529_1\")\n",
    "get_df_new = partial(get_df, league = 'Bundesliga ', season = '2016-2017')\n",
    "pool=Pool(8)\n",
    "pool.map(get_df_new, urls)\n",
    "pool.close()\n",
    "pool.join()\n",
    "\n",
    "print('Time for scraping: {} seconds'.format(time.time() - start))"
   ]
  },
  {
   "cell_type": "markdown",
   "metadata": {},
   "source": [
    "####  10. Ligue 1 2016-2017"
   ]
  },
  {
   "cell_type": "code",
   "execution_count": 27,
   "metadata": {},
   "outputs": [
    {
     "name": "stdout",
     "output_type": "stream",
     "text": [
      "scraped 50 matches\n",
      "scraped 100 matches\n",
      "scraped 150 matches\n",
      "scraped 200 matches\n",
      "scraped 250 matches\n",
      "scraped 300 matches\n",
      "scraped 350 matches\n",
      "Time for scriping: 313.567583322525 seconds\n"
     ]
    }
   ],
   "source": [
    "start = time.time()\n",
    "\n",
    "urls = scoresfixtures(\"https://fbref.com/en/comps/13/1527/schedule/2016-2017-Ligue-1-Scores-and-Fixtures\", \"div_sched_1527_1\")\n",
    "get_df(urls, league = 'Ligue 1 ', season = '2016-2017')\n",
    "    \n",
    "\n",
    "print('Time for scriping: {} seconds'.format(time.time() - start))"
   ]
  },
  {
   "cell_type": "code",
   "execution_count": 27,
   "metadata": {},
   "outputs": [
    {
     "name": "stdout",
     "output_type": "stream",
     "text": [
      "scraped 50 matches\n",
      "scraped 100 matches\n",
      "scraped 150 matches\n",
      "scraped 200 matches\n",
      "scraped 250 matches\n",
      "scraped 300 matches\n",
      "scraped 350 matches\n",
      "Time for scriping: 313.567583322525 seconds\n"
     ]
    }
   ],
   "source": [
    "start = time.time()\n",
    "\n",
    "urls = scoresfixtures(\"https://fbref.com/en/comps/13/1527/schedule/2016-2017-Ligue-1-Scores-and-Fixtures\", \"div_sched_1527_1\")\n",
    "get_df_new = partial(get_df, league = 'Ligue 1 ', season = '2016-2017')\n",
    "pool=Pool(8)\n",
    "pool.map(get_df_new, urls)\n",
    "pool.close()\n",
    "pool.join()\n",
    "\n",
    "print('Time for scraping: {} seconds'.format(time.time() - start))"
   ]
  }
 ],
 "metadata": {
  "kernelspec": {
   "display_name": "Python 3",
   "language": "python",
   "name": "python3"
  },
  "language_info": {
   "codemirror_mode": {
    "name": "ipython",
    "version": 3
   },
   "file_extension": ".py",
   "mimetype": "text/x-python",
   "name": "python",
   "nbconvert_exporter": "python",
   "pygments_lexer": "ipython3",
   "version": "3.6.3"
  },
  "latex_envs": {
   "LaTeX_envs_menu_present": true,
   "autoclose": false,
   "autocomplete": true,
   "bibliofile": "biblio.bib",
   "cite_by": "apalike",
   "current_citInitial": 1,
   "eqLabelWithNumbers": true,
   "eqNumInitial": 1,
   "hotkeys": {
    "equation": "Ctrl-E",
    "itemize": "Ctrl-I"
   },
   "labels_anchors": false,
   "latex_user_defs": false,
   "report_style_numbering": false,
   "user_envs_cfg": false
  },
  "toc": {
   "base_numbering": 1,
   "nav_menu": {},
   "number_sections": true,
   "sideBar": true,
   "skip_h1_title": false,
   "title_cell": "Table of Contents",
   "title_sidebar": "Contents",
   "toc_cell": false,
   "toc_position": {},
   "toc_section_display": true,
   "toc_window_display": false
  }
 },
 "nbformat": 4,
 "nbformat_minor": 4
}
